{
 "cells": [
  {
   "cell_type": "markdown",
   "metadata": {},
   "source": [
    "# How do violations of the conditional independence assumption affect parameter estimates?"
   ]
  },
  {
   "cell_type": "markdown",
   "metadata": {},
   "source": [
    "The `generate_df_gammas_random` function allows the user to specify `cov_m` and `cov_u`, which covariance matrices that dictates the correlation between values in the comparison vector (the 'gamma' columns).\n",
    "\n",
    "❗️Warning:  The correlations in the resultant dataset are similar to these correlations, but usually lower in strength.\n",
    "\n",
    "How does this work?\n",
    "\n",
    "Imagine we are generating values for matches according to the following settings:\n",
    "\n",
    "```\n",
    "settings = {\n",
    "    \"comparison_columns\": [\n",
    "        {\n",
    "            \"col_name\": \"col_1\",\n",
    "            \"m_probabilities\": [0.3, 0.7],\n",
    "\n",
    "        },\n",
    "        {\n",
    "            \"col_name\": \"col_2\",\n",
    "            \"m_probabilities\": [0.1, 0.9],\n",
    "        }\n",
    "    ],\n",
    "}\n",
    "```\n",
    "\n",
    "For the case of no correlation, we generate two independent random numbers $x1$ and $x2$, which are distributed $U(0,1)$\n",
    "\n",
    "We then say:\n",
    "```\n",
    "if x1 > 0.3 then gamma_col_1 = 1 else gamma_col_1 = 0\n",
    "if x2 > 0.1 then gamma_col_2 = 1 else gamma_col_2 = 0\n",
    "```\n",
    "\n",
    "Where a covariance matrix `cov_m` is provided, we generate a pair of numbers   $n1$ and $n2$  using it from a multivariate random normal distribution \n",
    "\n",
    "We then map these two numbers to the domain $[0,1]$ by transforming them through the Normal distribution's cumulative distribution function, yielding  $x1$ and $x2$.\n",
    "\n",
    "Finally, we apply the same logic as above.\n",
    "\n",
    "This generalises easily to the case where there are more than two levels (the gamma column can contain more than two values)."
   ]
  },
  {
   "cell_type": "markdown",
   "metadata": {},
   "source": [
    "## What sort of correlations do we observe in generated data?"
   ]
  },
  {
   "cell_type": "code",
   "execution_count": 17,
   "metadata": {},
   "outputs": [],
   "source": [
    "from splink_data_generation.generate_data_random import generate_df_gammas_random\n",
    "\n",
    "from copy import deepcopy\n",
    "settings = {\n",
    "    \"link_type\": \"dedupe_only\",\n",
    "    \"proportion_of_matches\" :0.5,\n",
    "    \"comparison_columns\": [\n",
    "        {\n",
    "            \"col_name\": \"col_1\",\n",
    "            \"m_probabilities\": [0.1, 0.9],\n",
    "            \"u_probabilities\": [0.8, 0.2],\n",
    "        },\n",
    "        {\n",
    "            \"col_name\": \"col_2\",\n",
    "            \"m_probabilities\": [0.1, 0.9],\n",
    "            \"u_probabilities\": [0.8, 0.2],\n",
    "        }\n",
    "    ],\n",
    "\n",
    "}"
   ]
  },
  {
   "cell_type": "code",
   "execution_count": 18,
   "metadata": {},
   "outputs": [],
   "source": [
    "from IPython.display import display, Markdown\n",
    "def print_correlations(df):\n",
    "\n",
    "    gamma_cols = [c for c in df.columns if 'gamma_' in c]\n",
    "    \n",
    "    df_m = df[df[\"true_match_l\"]==1]\n",
    "    display(Markdown(\"Correlations amongst true matches:\"))\n",
    "    display(df_m[gamma_cols].corr())\n",
    "    df_u = df[df[\"true_match_l\"]==0]\n",
    "    display(Markdown(\"Correlations amongst true non-matches:\"))\n",
    "    display(df_u[gamma_cols].corr())"
   ]
  },
  {
   "cell_type": "code",
   "execution_count": 22,
   "metadata": {},
   "outputs": [
    {
     "data": {
      "text/markdown": [
       "Correlations amongst true matches:"
      ],
      "text/plain": [
       "<IPython.core.display.Markdown object>"
      ]
     },
     "metadata": {},
     "output_type": "display_data"
    },
    {
     "data": {
      "text/html": [
       "<div>\n",
       "<style scoped>\n",
       "    .dataframe tbody tr th:only-of-type {\n",
       "        vertical-align: middle;\n",
       "    }\n",
       "\n",
       "    .dataframe tbody tr th {\n",
       "        vertical-align: top;\n",
       "    }\n",
       "\n",
       "    .dataframe thead th {\n",
       "        text-align: right;\n",
       "    }\n",
       "</style>\n",
       "<table border=\"1\" class=\"dataframe\">\n",
       "  <thead>\n",
       "    <tr style=\"text-align: right;\">\n",
       "      <th></th>\n",
       "      <th>gamma_col_1</th>\n",
       "      <th>gamma_col_2</th>\n",
       "    </tr>\n",
       "  </thead>\n",
       "  <tbody>\n",
       "    <tr>\n",
       "      <th>gamma_col_1</th>\n",
       "      <td>1.000000</td>\n",
       "      <td>0.009036</td>\n",
       "    </tr>\n",
       "    <tr>\n",
       "      <th>gamma_col_2</th>\n",
       "      <td>0.009036</td>\n",
       "      <td>1.000000</td>\n",
       "    </tr>\n",
       "  </tbody>\n",
       "</table>\n",
       "</div>"
      ],
      "text/plain": [
       "             gamma_col_1  gamma_col_2\n",
       "gamma_col_1     1.000000     0.009036\n",
       "gamma_col_2     0.009036     1.000000"
      ]
     },
     "metadata": {},
     "output_type": "display_data"
    },
    {
     "data": {
      "text/markdown": [
       "Correlations amongst true non-matches:"
      ],
      "text/plain": [
       "<IPython.core.display.Markdown object>"
      ]
     },
     "metadata": {},
     "output_type": "display_data"
    },
    {
     "data": {
      "text/html": [
       "<div>\n",
       "<style scoped>\n",
       "    .dataframe tbody tr th:only-of-type {\n",
       "        vertical-align: middle;\n",
       "    }\n",
       "\n",
       "    .dataframe tbody tr th {\n",
       "        vertical-align: top;\n",
       "    }\n",
       "\n",
       "    .dataframe thead th {\n",
       "        text-align: right;\n",
       "    }\n",
       "</style>\n",
       "<table border=\"1\" class=\"dataframe\">\n",
       "  <thead>\n",
       "    <tr style=\"text-align: right;\">\n",
       "      <th></th>\n",
       "      <th>gamma_col_1</th>\n",
       "      <th>gamma_col_2</th>\n",
       "    </tr>\n",
       "  </thead>\n",
       "  <tbody>\n",
       "    <tr>\n",
       "      <th>gamma_col_1</th>\n",
       "      <td>1.000000</td>\n",
       "      <td>0.016403</td>\n",
       "    </tr>\n",
       "    <tr>\n",
       "      <th>gamma_col_2</th>\n",
       "      <td>0.016403</td>\n",
       "      <td>1.000000</td>\n",
       "    </tr>\n",
       "  </tbody>\n",
       "</table>\n",
       "</div>"
      ],
      "text/plain": [
       "             gamma_col_1  gamma_col_2\n",
       "gamma_col_1     1.000000     0.016403\n",
       "gamma_col_2     0.016403     1.000000"
      ]
     },
     "metadata": {},
     "output_type": "display_data"
    }
   ],
   "source": [
    "df_no_cov = generate_df_gammas_random(50000, deepcopy(settings), cov_m =[[1,0], [0,1]], cov_u =[[1,0], [0,1]])\n",
    "print_correlations(df_no_cov)"
   ]
  },
  {
   "cell_type": "code",
   "execution_count": 23,
   "metadata": {},
   "outputs": [
    {
     "data": {
      "text/markdown": [
       "Correlations amongst true matches:"
      ],
      "text/plain": [
       "<IPython.core.display.Markdown object>"
      ]
     },
     "metadata": {},
     "output_type": "display_data"
    },
    {
     "data": {
      "text/html": [
       "<div>\n",
       "<style scoped>\n",
       "    .dataframe tbody tr th:only-of-type {\n",
       "        vertical-align: middle;\n",
       "    }\n",
       "\n",
       "    .dataframe tbody tr th {\n",
       "        vertical-align: top;\n",
       "    }\n",
       "\n",
       "    .dataframe thead th {\n",
       "        text-align: right;\n",
       "    }\n",
       "</style>\n",
       "<table border=\"1\" class=\"dataframe\">\n",
       "  <thead>\n",
       "    <tr style=\"text-align: right;\">\n",
       "      <th></th>\n",
       "      <th>gamma_col_1</th>\n",
       "      <th>gamma_col_2</th>\n",
       "    </tr>\n",
       "  </thead>\n",
       "  <tbody>\n",
       "    <tr>\n",
       "      <th>gamma_col_1</th>\n",
       "      <td>1.000000</td>\n",
       "      <td>0.264824</td>\n",
       "    </tr>\n",
       "    <tr>\n",
       "      <th>gamma_col_2</th>\n",
       "      <td>0.264824</td>\n",
       "      <td>1.000000</td>\n",
       "    </tr>\n",
       "  </tbody>\n",
       "</table>\n",
       "</div>"
      ],
      "text/plain": [
       "             gamma_col_1  gamma_col_2\n",
       "gamma_col_1     1.000000     0.264824\n",
       "gamma_col_2     0.264824     1.000000"
      ]
     },
     "metadata": {},
     "output_type": "display_data"
    },
    {
     "data": {
      "text/markdown": [
       "Correlations amongst true non-matches:"
      ],
      "text/plain": [
       "<IPython.core.display.Markdown object>"
      ]
     },
     "metadata": {},
     "output_type": "display_data"
    },
    {
     "data": {
      "text/html": [
       "<div>\n",
       "<style scoped>\n",
       "    .dataframe tbody tr th:only-of-type {\n",
       "        vertical-align: middle;\n",
       "    }\n",
       "\n",
       "    .dataframe tbody tr th {\n",
       "        vertical-align: top;\n",
       "    }\n",
       "\n",
       "    .dataframe thead th {\n",
       "        text-align: right;\n",
       "    }\n",
       "</style>\n",
       "<table border=\"1\" class=\"dataframe\">\n",
       "  <thead>\n",
       "    <tr style=\"text-align: right;\">\n",
       "      <th></th>\n",
       "      <th>gamma_col_1</th>\n",
       "      <th>gamma_col_2</th>\n",
       "    </tr>\n",
       "  </thead>\n",
       "  <tbody>\n",
       "    <tr>\n",
       "      <th>gamma_col_1</th>\n",
       "      <td>1.000000</td>\n",
       "      <td>-0.194135</td>\n",
       "    </tr>\n",
       "    <tr>\n",
       "      <th>gamma_col_2</th>\n",
       "      <td>-0.194135</td>\n",
       "      <td>1.000000</td>\n",
       "    </tr>\n",
       "  </tbody>\n",
       "</table>\n",
       "</div>"
      ],
      "text/plain": [
       "             gamma_col_1  gamma_col_2\n",
       "gamma_col_1     1.000000    -0.194135\n",
       "gamma_col_2    -0.194135     1.000000"
      ]
     },
     "metadata": {},
     "output_type": "display_data"
    }
   ],
   "source": [
    "df_no_cov = generate_df_gammas_random(50000, deepcopy(settings), cov_m =[[1,0.5], [0.5,1]], cov_u =[[1,-0.5], [-0.5,1]])\n",
    "print_correlations(df_no_cov)"
   ]
  },
  {
   "cell_type": "markdown",
   "metadata": {},
   "source": [
    "## What affect do these correlations have on parameter estimates?\n",
    "\n",
    "Consider the following settings.  We know from the first notebook that Splink is able correctly to estimate these parameters if there's no correlation structure to the data.\n",
    "\n",
    "What happens if we introduce fairly strong correlations:"
   ]
  },
  {
   "cell_type": "code",
   "execution_count": 25,
   "metadata": {},
   "outputs": [],
   "source": [
    "settings = {\n",
    "    \"proportion_of_matches\": 0.2,\n",
    "    \"link_type\": \"dedupe_only\",\n",
    "    \"comparison_columns\": [\n",
    "        {\n",
    "            \"col_name\": \"col_1\",\n",
    "            \"m_probabilities\": [0.3, 0.7],  # Probability of typo\n",
    "            \"u_probabilities\": [0.9, 0.1],  # Probability of collision\n",
    "        },\n",
    "        {\n",
    "            \"col_name\": \"col_2\",\n",
    "            \"m_probabilities\": [0.1, 0.9],  # Probability of typo\n",
    "            \"u_probabilities\": [0.975, 0.025],  # Probability of collision\n",
    "        },\n",
    "        {\n",
    "            \"col_name\": \"col_3\",\n",
    "            \"m_probabilities\": [0.05, 0.95],  # Probability of typo\n",
    "            \"u_probabilities\": [0.8, 0.2],  # Probability of collision\n",
    "        },\n",
    "    ],\n",
    "     \"additional_columns_to_retain\": [\n",
    "        \"true_match\", \"true_match_probability\"\n",
    "    ]\n",
    "}"
   ]
  },
  {
   "cell_type": "code",
   "execution_count": 27,
   "metadata": {},
   "outputs": [],
   "source": [
    "cov_m = [\n",
    "    [1,0.8,0.8],\n",
    "    [0.8,1,0.8],\n",
    "    [0.8,0.8,1],\n",
    "]\n",
    "\n",
    "cov_u = [\n",
    "    [1,0.8,0.8],\n",
    "    [0.8,1,0.8],\n",
    "    [0.8,0.8,1],\n",
    "]\n",
    "\n",
    "df = generate_df_gammas_random(50000, deepcopy(settings), cov_m =cov_m, cov_u =cov_u)"
   ]
  },
  {
   "cell_type": "code",
   "execution_count": 35,
   "metadata": {},
   "outputs": [
    {
     "data": {
      "text/markdown": [
       "Correlations amongst true matches:"
      ],
      "text/plain": [
       "<IPython.core.display.Markdown object>"
      ]
     },
     "metadata": {},
     "output_type": "display_data"
    },
    {
     "data": {
      "text/html": [
       "<div>\n",
       "<style scoped>\n",
       "    .dataframe tbody tr th:only-of-type {\n",
       "        vertical-align: middle;\n",
       "    }\n",
       "\n",
       "    .dataframe tbody tr th {\n",
       "        vertical-align: top;\n",
       "    }\n",
       "\n",
       "    .dataframe thead th {\n",
       "        text-align: right;\n",
       "    }\n",
       "</style>\n",
       "<table border=\"1\" class=\"dataframe\">\n",
       "  <thead>\n",
       "    <tr style=\"text-align: right;\">\n",
       "      <th></th>\n",
       "      <th>gamma_col_1</th>\n",
       "      <th>gamma_col_2</th>\n",
       "      <th>gamma_col_3</th>\n",
       "    </tr>\n",
       "  </thead>\n",
       "  <tbody>\n",
       "    <tr>\n",
       "      <th>gamma_col_1</th>\n",
       "      <td>1.000000</td>\n",
       "      <td>0.451579</td>\n",
       "      <td>0.319108</td>\n",
       "    </tr>\n",
       "    <tr>\n",
       "      <th>gamma_col_2</th>\n",
       "      <td>0.451579</td>\n",
       "      <td>1.000000</td>\n",
       "      <td>0.466770</td>\n",
       "    </tr>\n",
       "    <tr>\n",
       "      <th>gamma_col_3</th>\n",
       "      <td>0.319108</td>\n",
       "      <td>0.466770</td>\n",
       "      <td>1.000000</td>\n",
       "    </tr>\n",
       "  </tbody>\n",
       "</table>\n",
       "</div>"
      ],
      "text/plain": [
       "             gamma_col_1  gamma_col_2  gamma_col_3\n",
       "gamma_col_1     1.000000     0.451579     0.319108\n",
       "gamma_col_2     0.451579     1.000000     0.466770\n",
       "gamma_col_3     0.319108     0.466770     1.000000"
      ]
     },
     "metadata": {},
     "output_type": "display_data"
    },
    {
     "data": {
      "text/markdown": [
       "Correlations amongst true non-matches:"
      ],
      "text/plain": [
       "<IPython.core.display.Markdown object>"
      ]
     },
     "metadata": {},
     "output_type": "display_data"
    },
    {
     "data": {
      "text/html": [
       "<div>\n",
       "<style scoped>\n",
       "    .dataframe tbody tr th:only-of-type {\n",
       "        vertical-align: middle;\n",
       "    }\n",
       "\n",
       "    .dataframe tbody tr th {\n",
       "        vertical-align: top;\n",
       "    }\n",
       "\n",
       "    .dataframe thead th {\n",
       "        text-align: right;\n",
       "    }\n",
       "</style>\n",
       "<table border=\"1\" class=\"dataframe\">\n",
       "  <thead>\n",
       "    <tr style=\"text-align: right;\">\n",
       "      <th></th>\n",
       "      <th>gamma_col_1</th>\n",
       "      <th>gamma_col_2</th>\n",
       "      <th>gamma_col_3</th>\n",
       "    </tr>\n",
       "  </thead>\n",
       "  <tbody>\n",
       "    <tr>\n",
       "      <th>gamma_col_1</th>\n",
       "      <td>1.000000</td>\n",
       "      <td>0.376827</td>\n",
       "      <td>0.497911</td>\n",
       "    </tr>\n",
       "    <tr>\n",
       "      <th>gamma_col_2</th>\n",
       "      <td>0.376827</td>\n",
       "      <td>1.000000</td>\n",
       "      <td>0.292526</td>\n",
       "    </tr>\n",
       "    <tr>\n",
       "      <th>gamma_col_3</th>\n",
       "      <td>0.497911</td>\n",
       "      <td>0.292526</td>\n",
       "      <td>1.000000</td>\n",
       "    </tr>\n",
       "  </tbody>\n",
       "</table>\n",
       "</div>"
      ],
      "text/plain": [
       "             gamma_col_1  gamma_col_2  gamma_col_3\n",
       "gamma_col_1     1.000000     0.376827     0.497911\n",
       "gamma_col_2     0.376827     1.000000     0.292526\n",
       "gamma_col_3     0.497911     0.292526     1.000000"
      ]
     },
     "metadata": {},
     "output_type": "display_data"
    }
   ],
   "source": [
    "print_correlations(df)"
   ]
  },
  {
   "cell_type": "code",
   "execution_count": 29,
   "metadata": {},
   "outputs": [
    {
     "data": {
      "text/markdown": [
       "\n",
       "The number of rows in the simulated dataset is 50,000\n",
       "\n",
       "The proportion of matches according to `true_match` status is 0.2000\n",
       "\n",
       "The expected proportion of matches according to `true_match_probability` status is 0.2214\n",
       "\n",
       "The log likelihood of the dataset given the true parameters is -62,717.50\n"
      ],
      "text/plain": [
       "<IPython.core.display.Markdown object>"
      ]
     },
     "metadata": {},
     "output_type": "display_data"
    }
   ],
   "source": [
    "from IPython.display import display, Markdown\n",
    "\n",
    "import numpy as np\n",
    "\n",
    "from splink_data_generation.match_prob import add_match_prob\n",
    "from splink_data_generation.log_likelihood import add_log_likelihood\n",
    "\n",
    "df = add_match_prob(df, settings)\n",
    "df = add_log_likelihood(df, settings)\n",
    "\n",
    "binary_prop = df[\"true_match_l\"].mean()\n",
    "prob_prop = df[\"true_match_probability_l\"].mean()\n",
    "log_likelihood = sum(df[\"true_log_likelihood_l\"])\n",
    "\n",
    "md = f\"\"\"\n",
    "The number of rows in the simulated dataset is {len(df):,.0f}\n",
    "\n",
    "The proportion of matches according to `true_match` status is {binary_prop:,.4f}\n",
    "\n",
    "The expected proportion of matches according to `true_match_probability` status is {prob_prop:,.4f}\n",
    "\n",
    "The log likelihood of the dataset given the true parameters is {log_likelihood:,.2f}\n",
    "\"\"\"\n",
    "\n",
    "display(Markdown(md))"
   ]
  },
  {
   "cell_type": "code",
   "execution_count": 34,
   "metadata": {},
   "outputs": [
    {
     "data": {
      "text/markdown": [
       "\n",
       "**For gamma_col_1:**\n",
       "\n",
       "m probabilities: [0.3045,0.6955]\n",
       "\n",
       "u probabilities: [0.8973,0.1027]\n",
       "\n",
       "**For gamma_col_2:**\n",
       "\n",
       "m probabilities: [0.1026,0.8974]\n",
       "\n",
       "u probabilities: [0.9753,0.0247]\n",
       "\n",
       "\n",
       "**For gamma_col_3:**\n",
       "\n",
       "m probabilities: [0.0475,0.9525]\n",
       "\n",
       "u probabilities: [0.7985,0.2015]\n",
       "\n"
      ],
      "text/plain": [
       "<IPython.core.display.Markdown object>"
      ]
     },
     "metadata": {},
     "output_type": "display_data"
    }
   ],
   "source": [
    "f_match = df[\"true_match_l\"] == 1\n",
    "f_non_match = df[\"true_match_l\"] == 0\n",
    "\n",
    "m_col_1 = df[f_match][\"gamma_col_1\"].mean()\n",
    "u_col_1 = df[f_non_match][\"gamma_col_1\"].mean()\n",
    "\n",
    "m_col_2 = df[f_match][\"gamma_col_2\"].mean()\n",
    "u_col_2 = df[f_non_match][\"gamma_col_2\"].mean()\n",
    "\n",
    "m_col_3 = df[f_match][\"gamma_col_3\"].mean()\n",
    "u_col_3 = df[f_non_match][\"gamma_col_3\"].mean()\n",
    "\n",
    "md = f\"\"\"\n",
    "**For gamma_col_1:**\n",
    "\n",
    "m probabilities: [{1- m_col_1:,.4f},{m_col_1:,.4f}]\n",
    "\n",
    "u probabilities: [{1- u_col_1:,.4f},{u_col_1:,.4f}]\n",
    "\n",
    "**For gamma_col_2:**\n",
    "\n",
    "m probabilities: [{1- m_col_2:,.4f},{m_col_2:,.4f}]\n",
    "\n",
    "u probabilities: [{1- u_col_2:,.4f},{u_col_2:,.4f}]\n",
    "\n",
    "\n",
    "**For gamma_col_3:**\n",
    "\n",
    "m probabilities: [{1- m_col_3:,.4f},{m_col_3:,.4f}]\n",
    "\n",
    "u probabilities: [{1- u_col_3:,.4f},{u_col_3:,.4f}]\n",
    "\n",
    "\"\"\"\n",
    "\n",
    "display(Markdown(md))"
   ]
  },
  {
   "cell_type": "code",
   "execution_count": 36,
   "metadata": {},
   "outputs": [],
   "source": [
    "import logging \n",
    "logging.basicConfig()  # Means logs will print in Jupyter Lab\n",
    "\n",
    "# Set to DEBUG if you want splink to log the SQL statements it's executing under the hood\n",
    "logging.getLogger(\"splink\").setLevel(logging.INFO)\n",
    "\n",
    "from pyspark.context import SparkContext\n",
    "from pyspark.sql import SparkSession\n",
    "sc = SparkContext.getOrCreate()\n",
    "spark = SparkSession(sc)"
   ]
  },
  {
   "cell_type": "code",
   "execution_count": 38,
   "metadata": {},
   "outputs": [
    {
     "name": "stderr",
     "output_type": "stream",
     "text": [
      "/Users/robinlinacre/anaconda3/lib/python3.8/site-packages/splink/case_statements.py:17: UserWarning: The jaro_winkler_sim user definined function is not available in Spark Or you did not pass 'spark' (the SparkSession) into 'Params' Falling back to using levenshtein in the default string comparison functions You can import these functions using the scala-udf-similarity-0.0.6.jar provided with Splink\n",
      "  warnings.warn(f\"The jaro_winkler_sim user definined function is not available in Spark \"\n",
      "INFO:splink.expectation_step:Log likelihood for iteration 0:  -66771.64673389221\n",
      "INFO:splink.iterate:Iteration 0 complete\n",
      "INFO:splink.params:The maximum change in parameters was 0.09864112138748171 for key π_gamma_col_2_prob_dist_match_level_1_probability\n",
      "INFO:splink.expectation_step:Log likelihood for iteration 1:  -60075.97787245271\n",
      "INFO:splink.iterate:Iteration 1 complete\n",
      "INFO:splink.params:The maximum change in parameters was 0.02306593954563141 for key π_gamma_col_1_prob_dist_match_level_0_probability\n",
      "INFO:splink.expectation_step:Log likelihood for iteration 2:  -59733.09941977019\n",
      "INFO:splink.iterate:Iteration 2 complete\n",
      "INFO:splink.params:The maximum change in parameters was 0.012529104948043823 for key π_gamma_col_1_prob_dist_match_level_0_probability\n",
      "INFO:splink.expectation_step:Log likelihood for iteration 3:  -59676.989747042055\n",
      "INFO:splink.iterate:Iteration 3 complete\n",
      "INFO:splink.params:The maximum change in parameters was 0.006862357258796692 for key π_gamma_col_2_prob_dist_match_level_0_probability\n",
      "INFO:splink.expectation_step:Log likelihood for iteration 4:  -59665.95360639137\n",
      "INFO:splink.iterate:Iteration 4 complete\n",
      "INFO:splink.params:The maximum change in parameters was 0.0036637187004089355 for key π_gamma_col_2_prob_dist_match_level_0_probability\n",
      "INFO:splink.expectation_step:Log likelihood for iteration 5:  -59663.15745458605\n",
      "INFO:splink.iterate:Iteration 5 complete\n",
      "INFO:splink.params:The maximum change in parameters was 0.0019349455833435059 for key π_gamma_col_2_prob_dist_match_level_0_probability\n",
      "INFO:splink.expectation_step:Log likelihood for iteration 6:  -59662.376864162376\n",
      "INFO:splink.iterate:Iteration 6 complete\n",
      "INFO:splink.params:The maximum change in parameters was 0.0010268688201904297 for key π_gamma_col_2_prob_dist_match_level_1_probability\n",
      "INFO:splink.expectation_step:Log likelihood for iteration 7:  -59662.15475595431\n",
      "INFO:splink.iterate:Iteration 7 complete\n",
      "INFO:splink.params:The maximum change in parameters was 0.0005486160516738892 for key π_gamma_col_2_prob_dist_match_level_0_probability\n",
      "INFO:splink.expectation_step:Log likelihood for iteration 8:  -59662.08808568366\n",
      "INFO:splink.iterate:Iteration 8 complete\n",
      "INFO:splink.params:The maximum change in parameters was 0.00029480457305908203 for key π_gamma_col_2_prob_dist_match_level_1_probability\n",
      "INFO:splink.expectation_step:Log likelihood for iteration 9:  -59662.06996670771\n",
      "INFO:splink.iterate:Iteration 9 complete\n",
      "INFO:splink.params:The maximum change in parameters was 0.00015909969806671143 for key π_gamma_col_2_prob_dist_match_level_0_probability\n",
      "INFO:splink.expectation_step:Log likelihood for iteration 10:  -59662.061888024364\n",
      "INFO:splink.iterate:Iteration 10 complete\n",
      "INFO:splink.params:The maximum change in parameters was 8.612871170043945e-05 for key π_gamma_col_2_prob_dist_match_level_0_probability\n",
      "INFO:splink.iterate:EM algorithm has converged\n",
      "INFO:splink.expectation_step:Log likelihood for iteration 11:  -59662.05882729636\n"
     ]
    },
    {
     "data": {
      "text/html": [
       "<div>\n",
       "<style scoped>\n",
       "    .dataframe tbody tr th:only-of-type {\n",
       "        vertical-align: middle;\n",
       "    }\n",
       "\n",
       "    .dataframe tbody tr th {\n",
       "        vertical-align: top;\n",
       "    }\n",
       "\n",
       "    .dataframe thead th {\n",
       "        text-align: right;\n",
       "    }\n",
       "</style>\n",
       "<table border=\"1\" class=\"dataframe\">\n",
       "  <thead>\n",
       "    <tr style=\"text-align: right;\">\n",
       "      <th></th>\n",
       "      <th>match_probability</th>\n",
       "      <th>unique_id_l</th>\n",
       "      <th>unique_id_r</th>\n",
       "      <th>gamma_col_1</th>\n",
       "      <th>prob_gamma_col_1_non_match</th>\n",
       "      <th>prob_gamma_col_1_match</th>\n",
       "      <th>gamma_col_2</th>\n",
       "      <th>prob_gamma_col_2_non_match</th>\n",
       "      <th>prob_gamma_col_2_match</th>\n",
       "      <th>gamma_col_3</th>\n",
       "      <th>prob_gamma_col_3_non_match</th>\n",
       "      <th>prob_gamma_col_3_match</th>\n",
       "      <th>true_match_l</th>\n",
       "      <th>true_match_r</th>\n",
       "      <th>true_match_probability_l</th>\n",
       "      <th>true_match_probability_r</th>\n",
       "    </tr>\n",
       "  </thead>\n",
       "  <tbody>\n",
       "    <tr>\n",
       "      <th>0</th>\n",
       "      <td>0.999933</td>\n",
       "      <td>dd975959</td>\n",
       "      <td>b1fe638b</td>\n",
       "      <td>1</td>\n",
       "      <td>0.025434</td>\n",
       "      <td>0.783357</td>\n",
       "      <td>1</td>\n",
       "      <td>0.004243</td>\n",
       "      <td>0.759035</td>\n",
       "      <td>1</td>\n",
       "      <td>0.1276</td>\n",
       "      <td>0.995131</td>\n",
       "      <td>1</td>\n",
       "      <td>1</td>\n",
       "      <td>0.996669</td>\n",
       "      <td>0.996669</td>\n",
       "    </tr>\n",
       "    <tr>\n",
       "      <th>1</th>\n",
       "      <td>0.999933</td>\n",
       "      <td>47d28ac7</td>\n",
       "      <td>bbc3fd6c</td>\n",
       "      <td>1</td>\n",
       "      <td>0.025434</td>\n",
       "      <td>0.783357</td>\n",
       "      <td>1</td>\n",
       "      <td>0.004243</td>\n",
       "      <td>0.759035</td>\n",
       "      <td>1</td>\n",
       "      <td>0.1276</td>\n",
       "      <td>0.995131</td>\n",
       "      <td>1</td>\n",
       "      <td>1</td>\n",
       "      <td>0.996669</td>\n",
       "      <td>0.996669</td>\n",
       "    </tr>\n",
       "    <tr>\n",
       "      <th>2</th>\n",
       "      <td>0.990828</td>\n",
       "      <td>90620010</td>\n",
       "      <td>3fc7a7fd</td>\n",
       "      <td>0</td>\n",
       "      <td>0.974566</td>\n",
       "      <td>0.216643</td>\n",
       "      <td>1</td>\n",
       "      <td>0.004243</td>\n",
       "      <td>0.759035</td>\n",
       "      <td>1</td>\n",
       "      <td>0.1276</td>\n",
       "      <td>0.995131</td>\n",
       "      <td>1</td>\n",
       "      <td>1</td>\n",
       "      <td>0.934426</td>\n",
       "      <td>0.934426</td>\n",
       "    </tr>\n",
       "    <tr>\n",
       "      <th>3</th>\n",
       "      <td>0.999933</td>\n",
       "      <td>2b6659f8</td>\n",
       "      <td>866805f0</td>\n",
       "      <td>1</td>\n",
       "      <td>0.025434</td>\n",
       "      <td>0.783357</td>\n",
       "      <td>1</td>\n",
       "      <td>0.004243</td>\n",
       "      <td>0.759035</td>\n",
       "      <td>1</td>\n",
       "      <td>0.1276</td>\n",
       "      <td>0.995131</td>\n",
       "      <td>1</td>\n",
       "      <td>1</td>\n",
       "      <td>0.996669</td>\n",
       "      <td>0.996669</td>\n",
       "    </tr>\n",
       "    <tr>\n",
       "      <th>4</th>\n",
       "      <td>0.999933</td>\n",
       "      <td>a1a3ced2</td>\n",
       "      <td>f636f1af</td>\n",
       "      <td>1</td>\n",
       "      <td>0.025434</td>\n",
       "      <td>0.783357</td>\n",
       "      <td>1</td>\n",
       "      <td>0.004243</td>\n",
       "      <td>0.759035</td>\n",
       "      <td>1</td>\n",
       "      <td>0.1276</td>\n",
       "      <td>0.995131</td>\n",
       "      <td>1</td>\n",
       "      <td>1</td>\n",
       "      <td>0.996669</td>\n",
       "      <td>0.996669</td>\n",
       "    </tr>\n",
       "  </tbody>\n",
       "</table>\n",
       "</div>"
      ],
      "text/plain": [
       "   match_probability unique_id_l unique_id_r  gamma_col_1  \\\n",
       "0           0.999933    dd975959    b1fe638b            1   \n",
       "1           0.999933    47d28ac7    bbc3fd6c            1   \n",
       "2           0.990828    90620010    3fc7a7fd            0   \n",
       "3           0.999933    2b6659f8    866805f0            1   \n",
       "4           0.999933    a1a3ced2    f636f1af            1   \n",
       "\n",
       "   prob_gamma_col_1_non_match  prob_gamma_col_1_match  gamma_col_2  \\\n",
       "0                    0.025434                0.783357            1   \n",
       "1                    0.025434                0.783357            1   \n",
       "2                    0.974566                0.216643            1   \n",
       "3                    0.025434                0.783357            1   \n",
       "4                    0.025434                0.783357            1   \n",
       "\n",
       "   prob_gamma_col_2_non_match  prob_gamma_col_2_match  gamma_col_3  \\\n",
       "0                    0.004243                0.759035            1   \n",
       "1                    0.004243                0.759035            1   \n",
       "2                    0.004243                0.759035            1   \n",
       "3                    0.004243                0.759035            1   \n",
       "4                    0.004243                0.759035            1   \n",
       "\n",
       "   prob_gamma_col_3_non_match  prob_gamma_col_3_match  true_match_l  \\\n",
       "0                      0.1276                0.995131             1   \n",
       "1                      0.1276                0.995131             1   \n",
       "2                      0.1276                0.995131             1   \n",
       "3                      0.1276                0.995131             1   \n",
       "4                      0.1276                0.995131             1   \n",
       "\n",
       "   true_match_r  true_match_probability_l  true_match_probability_r  \n",
       "0             1                  0.996669                  0.996669  \n",
       "1             1                  0.996669                  0.996669  \n",
       "2             1                  0.934426                  0.934426  \n",
       "3             1                  0.996669                  0.996669  \n",
       "4             1                  0.996669                  0.996669  "
      ]
     },
     "execution_count": 38,
     "metadata": {},
     "output_type": "execute_result"
    }
   ],
   "source": [
    "settings_2 = {\n",
    "\n",
    "    \"link_type\": \"dedupe_only\",\n",
    "    \"comparison_columns\": [\n",
    "        {\n",
    "            \"col_name\": \"col_1\",\n",
    "        },\n",
    "        {\n",
    "            \"col_name\": \"col_2\",\n",
    "        },\n",
    "        {\n",
    "            \"col_name\": \"col_3\",\n",
    "        },\n",
    "    ],\n",
    "     \"additional_columns_to_retain\": [\n",
    "        \"true_match\", \"true_match_probability\"\n",
    "    ]\n",
    "}\n",
    "\n",
    "from splink_data_generation.estimate_splink import estimate\n",
    "df_e, linker = estimate(df, deepcopy(settings_2) ,spark)\n",
    "df_e.toPandas().head(5)"
   ]
  },
  {
   "cell_type": "code",
   "execution_count": 39,
   "metadata": {},
   "outputs": [
    {
     "data": {
      "text/plain": [
       "λ (proportion of matches) = 0.25831910967826843\n",
       "------------------------------------\n",
       "gamma_col_1: Comparison of col_1\n",
       "\n",
       "Probability distribution of gamma values amongst matches:\n",
       "    value 0: 0.216643 (level represents lowest category of string similarity)\n",
       "    value 1: 0.783357 (level represents highest category of string similarity)\n",
       "\n",
       "Probability distribution of gamma values amongst non-matches:\n",
       "    value 0: 0.974566 (level represents lowest category of string similarity)\n",
       "    value 1: 0.025434 (level represents highest category of string similarity)\n",
       "------------------------------------\n",
       "gamma_col_2: Comparison of col_2\n",
       "\n",
       "Probability distribution of gamma values amongst matches:\n",
       "    value 0: 0.240965 (level represents lowest category of string similarity)\n",
       "    value 1: 0.759035 (level represents highest category of string similarity)\n",
       "\n",
       "Probability distribution of gamma values amongst non-matches:\n",
       "    value 0: 0.995757 (level represents lowest category of string similarity)\n",
       "    value 1: 0.004243 (level represents highest category of string similarity)\n",
       "------------------------------------\n",
       "gamma_col_3: Comparison of col_3\n",
       "\n",
       "Probability distribution of gamma values amongst matches:\n",
       "    value 0: 0.004868 (level represents lowest category of string similarity)\n",
       "    value 1: 0.995131 (level represents highest category of string similarity)\n",
       "\n",
       "Probability distribution of gamma values amongst non-matches:\n",
       "    value 0: 0.872400 (level represents lowest category of string similarity)\n",
       "    value 1: 0.127600 (level represents highest category of string similarity)"
      ]
     },
     "execution_count": 39,
     "metadata": {},
     "output_type": "execute_result"
    }
   ],
   "source": [
    "linker.model"
   ]
  },
  {
   "cell_type": "markdown",
   "metadata": {},
   "source": [
    "This allows us to compare the probabilities estimated by splink to the 'true' probabilities"
   ]
  },
  {
   "cell_type": "code",
   "execution_count": 73,
   "metadata": {},
   "outputs": [
    {
     "data": {
      "text/html": [
       "<div>\n",
       "<style scoped>\n",
       "    .dataframe tbody tr th:only-of-type {\n",
       "        vertical-align: middle;\n",
       "    }\n",
       "\n",
       "    .dataframe tbody tr th {\n",
       "        vertical-align: top;\n",
       "    }\n",
       "\n",
       "    .dataframe thead th {\n",
       "        text-align: right;\n",
       "    }\n",
       "</style>\n",
       "<table border=\"1\" class=\"dataframe\">\n",
       "  <thead>\n",
       "    <tr style=\"text-align: right;\">\n",
       "      <th></th>\n",
       "      <th>match_probability</th>\n",
       "      <th>true_match_probability_l</th>\n",
       "      <th>true_match_l</th>\n",
       "      <th>ln_est_match_prob</th>\n",
       "      <th>ln_true_match_prob</th>\n",
       "    </tr>\n",
       "  </thead>\n",
       "  <tbody>\n",
       "    <tr>\n",
       "      <th>0</th>\n",
       "      <td>0.999933</td>\n",
       "      <td>0.996669</td>\n",
       "      <td>1</td>\n",
       "      <td>9.613638</td>\n",
       "      <td>5.701279</td>\n",
       "    </tr>\n",
       "    <tr>\n",
       "      <th>1</th>\n",
       "      <td>0.999933</td>\n",
       "      <td>0.996669</td>\n",
       "      <td>1</td>\n",
       "      <td>9.613638</td>\n",
       "      <td>5.701279</td>\n",
       "    </tr>\n",
       "    <tr>\n",
       "      <th>2</th>\n",
       "      <td>0.990828</td>\n",
       "      <td>0.934426</td>\n",
       "      <td>1</td>\n",
       "      <td>4.682389</td>\n",
       "      <td>2.656757</td>\n",
       "    </tr>\n",
       "    <tr>\n",
       "      <th>3</th>\n",
       "      <td>0.999933</td>\n",
       "      <td>0.996669</td>\n",
       "      <td>1</td>\n",
       "      <td>9.613638</td>\n",
       "      <td>5.701279</td>\n",
       "    </tr>\n",
       "    <tr>\n",
       "      <th>4</th>\n",
       "      <td>0.999933</td>\n",
       "      <td>0.996669</td>\n",
       "      <td>1</td>\n",
       "      <td>9.613638</td>\n",
       "      <td>5.701279</td>\n",
       "    </tr>\n",
       "  </tbody>\n",
       "</table>\n",
       "</div>"
      ],
      "text/plain": [
       "   match_probability  true_match_probability_l  true_match_l  \\\n",
       "0           0.999933                  0.996669             1   \n",
       "1           0.999933                  0.996669             1   \n",
       "2           0.990828                  0.934426             1   \n",
       "3           0.999933                  0.996669             1   \n",
       "4           0.999933                  0.996669             1   \n",
       "\n",
       "   ln_est_match_prob  ln_true_match_prob  \n",
       "0           9.613638            5.701279  \n",
       "1           9.613638            5.701279  \n",
       "2           4.682389            2.656757  \n",
       "3           9.613638            5.701279  \n",
       "4           9.613638            5.701279  "
      ]
     },
     "execution_count": 73,
     "metadata": {},
     "output_type": "execute_result"
    }
   ],
   "source": [
    "df_e_pd = df_e.toPandas()\n",
    "df_e_pd = df_e_pd[[\"match_probability\", \"true_match_probability_l\", \"true_match_l\"]]\n",
    "df_e_pd[\"ln_est_match_prob\"] = np.log(df_e_pd[\"match_probability\"]/(1-df_e_pd[\"match_probability\"]))\n",
    "df_e_pd[\"ln_true_match_prob\"] =np.log(df_e_pd[\"true_match_probability_l\"]/(1-df_e_pd[\"true_match_probability_l\"]))\n",
    "df_e_pd"
   ]
  },
  {
   "cell_type": "code",
   "execution_count": 60,
   "metadata": {},
   "outputs": [],
   "source": [
    "import altair as alt"
   ]
  },
  {
   "cell_type": "code",
   "execution_count": 80,
   "metadata": {},
   "outputs": [
    {
     "data": {
      "text/plain": [
       "50000"
      ]
     },
     "execution_count": 80,
     "metadata": {},
     "output_type": "execute_result"
    }
   ],
   "source": [
    "len(df_e_pd)"
   ]
  },
  {
   "cell_type": "code",
   "execution_count": 85,
   "metadata": {},
   "outputs": [
    {
     "data": {
      "text/html": [
       "\n",
       "<div id=\"altair-viz-624bab968be841919f58a3443aa91204\"></div>\n",
       "<script type=\"text/javascript\">\n",
       "  (function(spec, embedOpt){\n",
       "    let outputDiv = document.currentScript.previousElementSibling;\n",
       "    if (outputDiv.id !== \"altair-viz-624bab968be841919f58a3443aa91204\") {\n",
       "      outputDiv = document.getElementById(\"altair-viz-624bab968be841919f58a3443aa91204\");\n",
       "    }\n",
       "    const paths = {\n",
       "      \"vega\": \"https://cdn.jsdelivr.net/npm//vega@5?noext\",\n",
       "      \"vega-lib\": \"https://cdn.jsdelivr.net/npm//vega-lib?noext\",\n",
       "      \"vega-lite\": \"https://cdn.jsdelivr.net/npm//vega-lite@4.8.1?noext\",\n",
       "      \"vega-embed\": \"https://cdn.jsdelivr.net/npm//vega-embed@6?noext\",\n",
       "    };\n",
       "\n",
       "    function loadScript(lib) {\n",
       "      return new Promise(function(resolve, reject) {\n",
       "        var s = document.createElement('script');\n",
       "        s.src = paths[lib];\n",
       "        s.async = true;\n",
       "        s.onload = () => resolve(paths[lib]);\n",
       "        s.onerror = () => reject(`Error loading script: ${paths[lib]}`);\n",
       "        document.getElementsByTagName(\"head\")[0].appendChild(s);\n",
       "      });\n",
       "    }\n",
       "\n",
       "    function showError(err) {\n",
       "      outputDiv.innerHTML = `<div class=\"error\" style=\"color:red;\">${err}</div>`;\n",
       "      throw err;\n",
       "    }\n",
       "\n",
       "    function displayChart(vegaEmbed) {\n",
       "      vegaEmbed(outputDiv, spec, embedOpt)\n",
       "        .catch(err => showError(`Javascript Error: ${err.message}<br>This usually means there's a typo in your chart specification. See the javascript console for the full traceback.`));\n",
       "    }\n",
       "\n",
       "    if(typeof define === \"function\" && define.amd) {\n",
       "      requirejs.config({paths});\n",
       "      require([\"vega-embed\"], displayChart, err => showError(`Error loading script: ${err.message}`));\n",
       "    } else if (typeof vegaEmbed === \"function\") {\n",
       "      displayChart(vegaEmbed);\n",
       "    } else {\n",
       "      loadScript(\"vega\")\n",
       "        .then(() => loadScript(\"vega-lite\"))\n",
       "        .then(() => loadScript(\"vega-embed\"))\n",
       "        .catch(showError)\n",
       "        .then(() => displayChart(vegaEmbed));\n",
       "    }\n",
       "  })({\"config\": {\"view\": {\"continuousWidth\": 400, \"continuousHeight\": 300}}, \"data\": {\"url\": \"http://localhost:23674/9f7297a778325c0cdef12295f30cbc6d.json\"}, \"mark\": \"circle\", \"encoding\": {\"tooltip\": [{\"type\": \"quantitative\", \"field\": \"ln_est_match_prob\"}, {\"type\": \"quantitative\", \"field\": \"ln_true_match_prob\"}, {\"type\": \"quantitative\", \"field\": \"true_match_l\"}], \"x\": {\"type\": \"quantitative\", \"field\": \"ln_true_match_prob\"}, \"y\": {\"type\": \"quantitative\", \"field\": \"ln_est_match_prob\"}}, \"$schema\": \"https://vega.github.io/schema/vega-lite/v4.8.1.json\"}, {\"mode\": \"vega-lite\"});\n",
       "</script>"
      ],
      "text/plain": [
       "alt.Chart(...)"
      ]
     },
     "execution_count": 85,
     "metadata": {},
     "output_type": "execute_result"
    }
   ],
   "source": [
    "import altair as alt\n",
    "\n",
    "alt.data_transformers.enable('data_server')\n",
    "\n",
    "alt.Chart(df_e_pd).mark_circle().encode(\n",
    "    y='ln_est_match_prob',\n",
    "    x='ln_true_match_prob',\n",
    "    tooltip=['ln_est_match_prob', 'ln_true_match_prob', 'true_match_l']\n",
    ")"
   ]
  },
  {
   "cell_type": "markdown",
   "metadata": {},
   "source": [
    "We see that, whilst generally a higher true match prob leads to a higher estimated match prob, we do not have monotonicity"
   ]
  },
  {
   "cell_type": "code",
   "execution_count": null,
   "metadata": {},
   "outputs": [],
   "source": []
  }
 ],
 "metadata": {
  "kernelspec": {
   "display_name": "Python 3",
   "language": "python",
   "name": "python3"
  },
  "language_info": {
   "codemirror_mode": {
    "name": "ipython",
    "version": 3
   },
   "file_extension": ".py",
   "mimetype": "text/x-python",
   "name": "python",
   "nbconvert_exporter": "python",
   "pygments_lexer": "ipython3",
   "version": "3.8.3"
  }
 },
 "nbformat": 4,
 "nbformat_minor": 4
}
