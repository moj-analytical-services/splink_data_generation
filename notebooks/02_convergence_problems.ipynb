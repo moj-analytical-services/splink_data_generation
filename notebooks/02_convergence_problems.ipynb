{
 "cells": [
  {
   "cell_type": "markdown",
   "metadata": {},
   "source": [
    "# Exploring convergence problems"
   ]
  },
  {
   "cell_type": "markdown",
   "metadata": {},
   "source": [
    "In this notebook I \n",
    "\n",
    "There are a few conclusions - some of these may be specific to this dataset:\n",
    "- The EM algorithms does not always converge to the 'correct answer'.\n",
    "- Where the EM algorithm converges to different parameters than the data generating mechanism, the log likelihood of the input data given these 'incorrect' parameters is _the same_ as the log likelihood of the data given the correct parameters\n",
    "- If you generate data according to the 'incorrect' parameters it is statistically indistinguishable from data generated according to the correct answer\n",
    "\n",
    "\n",
    "Consider the following data generating process:"
   ]
  },
  {
   "cell_type": "code",
   "execution_count": 10,
   "metadata": {},
   "outputs": [],
   "source": [
    "settings = {\n",
    "    \"link_type\": \"dedupe_only\",\n",
    "    \"proportion_of_matches\" :0.2,\n",
    "    \"comparison_columns\": [\n",
    "        {\n",
    "            \"col_name\": \"col_1\",\n",
    "            \"m_probabilities\": [0.3, 0.7],  # Probability of typo\n",
    "            \"u_probabilities\": [0.9, 0.1],  # Probability of collision\n",
    "        },\n",
    "        {\n",
    "            \"col_name\": \"col_2\",\n",
    "            \"m_probabilities\": [0.1, 0.9],  # Probability of typo\n",
    "            \"u_probabilities\": [0.975, 0.025],  # Probability of collision\n",
    "        }\n",
    "    ],\n",
    "    \"max_iterations\": 200,\n",
    "    \"em_convergence\": 0.0001,\n",
    "    \"additional_columns_to_retain\": [\n",
    "        \"true_match\", \"true_match_probability\", \"true_log_likelihood\"\n",
    "    ]\n",
    "}"
   ]
  },
  {
   "cell_type": "markdown",
   "metadata": {},
   "source": [
    "Let's generate some data according to these parameters"
   ]
  },
  {
   "cell_type": "code",
   "execution_count": 11,
   "metadata": {},
   "outputs": [
    {
     "name": "stderr",
     "output_type": "stream",
     "text": [
      "/Users/robinlinacre/anaconda3/lib/python3.8/site-packages/splink_data_generation/generate_data_exact.py:130: UserWarning: Note that the proportion_of_matches setting is ignored by this generator. Only the m_probabilities and u_probabilities are observed. The proportion of matches in the generated dataset was 0.200\n",
      "  warnings.warn(\n"
     ]
    },
    {
     "data": {
      "text/html": [
       "<div>\n",
       "<style scoped>\n",
       "    .dataframe tbody tr th:only-of-type {\n",
       "        vertical-align: middle;\n",
       "    }\n",
       "\n",
       "    .dataframe tbody tr th {\n",
       "        vertical-align: top;\n",
       "    }\n",
       "\n",
       "    .dataframe thead th {\n",
       "        text-align: right;\n",
       "    }\n",
       "</style>\n",
       "<table border=\"1\" class=\"dataframe\">\n",
       "  <thead>\n",
       "    <tr style=\"text-align: right;\">\n",
       "      <th></th>\n",
       "      <th>gamma_col_1</th>\n",
       "      <th>gamma_col_2</th>\n",
       "      <th>true_match_l</th>\n",
       "      <th>unique_id_l</th>\n",
       "      <th>true_match_probability_l</th>\n",
       "      <th>true_log_likelihood_l</th>\n",
       "    </tr>\n",
       "  </thead>\n",
       "  <tbody>\n",
       "    <tr>\n",
       "      <th>0</th>\n",
       "      <td>0</td>\n",
       "      <td>0</td>\n",
       "      <td>1</td>\n",
       "      <td>b70605f4</td>\n",
       "      <td>0.008475</td>\n",
       "      <td>-0.345311</td>\n",
       "    </tr>\n",
       "    <tr>\n",
       "      <th>1</th>\n",
       "      <td>0</td>\n",
       "      <td>1</td>\n",
       "      <td>1</td>\n",
       "      <td>8bb19921</td>\n",
       "      <td>0.750000</td>\n",
       "      <td>-2.631089</td>\n",
       "    </tr>\n",
       "    <tr>\n",
       "      <th>2</th>\n",
       "      <td>0</td>\n",
       "      <td>1</td>\n",
       "      <td>1</td>\n",
       "      <td>17dde00f</td>\n",
       "      <td>0.750000</td>\n",
       "      <td>-2.631089</td>\n",
       "    </tr>\n",
       "    <tr>\n",
       "      <th>3</th>\n",
       "      <td>0</td>\n",
       "      <td>1</td>\n",
       "      <td>1</td>\n",
       "      <td>48ae98dc</td>\n",
       "      <td>0.750000</td>\n",
       "      <td>-2.631089</td>\n",
       "    </tr>\n",
       "    <tr>\n",
       "      <th>4</th>\n",
       "      <td>0</td>\n",
       "      <td>1</td>\n",
       "      <td>1</td>\n",
       "      <td>bd84112c</td>\n",
       "      <td>0.750000</td>\n",
       "      <td>-2.631089</td>\n",
       "    </tr>\n",
       "  </tbody>\n",
       "</table>\n",
       "</div>"
      ],
      "text/plain": [
       "   gamma_col_1  gamma_col_2  true_match_l unique_id_l  \\\n",
       "0            0            0             1    b70605f4   \n",
       "1            0            1             1    8bb19921   \n",
       "2            0            1             1    17dde00f   \n",
       "3            0            1             1    48ae98dc   \n",
       "4            0            1             1    bd84112c   \n",
       "\n",
       "   true_match_probability_l  true_log_likelihood_l  \n",
       "0                  0.008475              -0.345311  \n",
       "1                  0.750000              -2.631089  \n",
       "2                  0.750000              -2.631089  \n",
       "3                  0.750000              -2.631089  \n",
       "4                  0.750000              -2.631089  "
      ]
     },
     "execution_count": 11,
     "metadata": {},
     "output_type": "execute_result"
    }
   ],
   "source": [
    "from splink_data_generation.generate_data_exact import generate_df_gammas_exact\n",
    "from splink_data_generation.match_prob import add_match_prob\n",
    "from splink_data_generation.log_likelihood import add_log_likelihood\n",
    "df = generate_df_gammas_exact(settings)\n",
    "df = add_match_prob(df, settings)\n",
    "df = add_log_likelihood(df, settings)\n",
    "cols = [c for c in df.columns if \"_r\" not in c]\n",
    "df[cols].head()"
   ]
  },
  {
   "cell_type": "markdown",
   "metadata": {},
   "source": [
    "First we will use Splink to estimate the parameters, setting the true parameters as the starting values."
   ]
  },
  {
   "cell_type": "code",
   "execution_count": 12,
   "metadata": {},
   "outputs": [],
   "source": [
    "import logging \n",
    "logging.basicConfig()  # Means logs will print in Jupyter Lab\n",
    "\n",
    "# Set to DEBUG if you want splink to log the SQL statements it's executing under the hood\n",
    "logging.getLogger(\"splink\").setLevel(logging.INFO)\n",
    "\n",
    "from pyspark.context import SparkContext\n",
    "from pyspark.sql import SparkSession\n",
    "sc = SparkContext.getOrCreate()\n",
    "spark = SparkSession(sc)\n"
   ]
  },
  {
   "cell_type": "code",
   "execution_count": 14,
   "metadata": {},
   "outputs": [
    {
     "name": "stderr",
     "output_type": "stream",
     "text": [
      "/Users/robinlinacre/anaconda3/lib/python3.8/site-packages/splink/case_statements.py:17: UserWarning: The jaro_winkler_sim user definined function is not available in Spark Or you did not pass 'spark' (the SparkSession) into 'Params' Falling back to using levenshtein in the default string comparison functions You can import these functions using the scala-udf-similarity-0.0.6.jar provided with Splink\n",
      "  warnings.warn(f\"The jaro_winkler_sim user definined function is not available in Spark \"\n",
      "INFO:splink.expectation_step:Log likelihood for iteration 0:  -458.2802386038024\n",
      "INFO:splink.iterate:Iteration 0 complete\n",
      "INFO:splink.params:The maximum change in parameters was 2.384185793236071e-08 for key π_gamma_col_1_prob_dist_non_match_level_0_probability\n",
      "INFO:splink.iterate:EM algorithm has converged\n",
      "INFO:splink.expectation_step:Log likelihood for iteration 1:  -458.2802400939189\n"
     ]
    },
    {
     "data": {
      "text/html": [
       "<div>\n",
       "<style scoped>\n",
       "    .dataframe tbody tr th:only-of-type {\n",
       "        vertical-align: middle;\n",
       "    }\n",
       "\n",
       "    .dataframe tbody tr th {\n",
       "        vertical-align: top;\n",
       "    }\n",
       "\n",
       "    .dataframe thead th {\n",
       "        text-align: right;\n",
       "    }\n",
       "</style>\n",
       "<table border=\"1\" class=\"dataframe\">\n",
       "  <thead>\n",
       "    <tr style=\"text-align: right;\">\n",
       "      <th></th>\n",
       "      <th>match_probability</th>\n",
       "      <th>unique_id_l</th>\n",
       "      <th>unique_id_r</th>\n",
       "      <th>gamma_col_1</th>\n",
       "      <th>prob_gamma_col_1_non_match</th>\n",
       "      <th>prob_gamma_col_1_match</th>\n",
       "      <th>gamma_col_2</th>\n",
       "      <th>prob_gamma_col_2_non_match</th>\n",
       "      <th>prob_gamma_col_2_match</th>\n",
       "      <th>true_match_l</th>\n",
       "      <th>true_match_r</th>\n",
       "      <th>true_match_probability_l</th>\n",
       "      <th>true_match_probability_r</th>\n",
       "      <th>true_log_likelihood_l</th>\n",
       "      <th>true_log_likelihood_r</th>\n",
       "    </tr>\n",
       "  </thead>\n",
       "  <tbody>\n",
       "    <tr>\n",
       "      <th>0</th>\n",
       "      <td>0.008475</td>\n",
       "      <td>b70605f4</td>\n",
       "      <td>bcbc0e28</td>\n",
       "      <td>0</td>\n",
       "      <td>0.9</td>\n",
       "      <td>0.3</td>\n",
       "      <td>0</td>\n",
       "      <td>0.975</td>\n",
       "      <td>0.1</td>\n",
       "      <td>1</td>\n",
       "      <td>1</td>\n",
       "      <td>0.008475</td>\n",
       "      <td>0.008475</td>\n",
       "      <td>-0.345311</td>\n",
       "      <td>-0.345311</td>\n",
       "    </tr>\n",
       "    <tr>\n",
       "      <th>1</th>\n",
       "      <td>0.750000</td>\n",
       "      <td>8bb19921</td>\n",
       "      <td>33d3d035</td>\n",
       "      <td>0</td>\n",
       "      <td>0.9</td>\n",
       "      <td>0.3</td>\n",
       "      <td>1</td>\n",
       "      <td>0.025</td>\n",
       "      <td>0.9</td>\n",
       "      <td>1</td>\n",
       "      <td>1</td>\n",
       "      <td>0.750000</td>\n",
       "      <td>0.750000</td>\n",
       "      <td>-2.631089</td>\n",
       "      <td>-2.631089</td>\n",
       "    </tr>\n",
       "    <tr>\n",
       "      <th>2</th>\n",
       "      <td>0.750000</td>\n",
       "      <td>17dde00f</td>\n",
       "      <td>8945a9ce</td>\n",
       "      <td>0</td>\n",
       "      <td>0.9</td>\n",
       "      <td>0.3</td>\n",
       "      <td>1</td>\n",
       "      <td>0.025</td>\n",
       "      <td>0.9</td>\n",
       "      <td>1</td>\n",
       "      <td>1</td>\n",
       "      <td>0.750000</td>\n",
       "      <td>0.750000</td>\n",
       "      <td>-2.631089</td>\n",
       "      <td>-2.631089</td>\n",
       "    </tr>\n",
       "    <tr>\n",
       "      <th>3</th>\n",
       "      <td>0.750000</td>\n",
       "      <td>48ae98dc</td>\n",
       "      <td>126bada9</td>\n",
       "      <td>0</td>\n",
       "      <td>0.9</td>\n",
       "      <td>0.3</td>\n",
       "      <td>1</td>\n",
       "      <td>0.025</td>\n",
       "      <td>0.9</td>\n",
       "      <td>1</td>\n",
       "      <td>1</td>\n",
       "      <td>0.750000</td>\n",
       "      <td>0.750000</td>\n",
       "      <td>-2.631089</td>\n",
       "      <td>-2.631089</td>\n",
       "    </tr>\n",
       "    <tr>\n",
       "      <th>4</th>\n",
       "      <td>0.750000</td>\n",
       "      <td>bd84112c</td>\n",
       "      <td>f7dd4642</td>\n",
       "      <td>0</td>\n",
       "      <td>0.9</td>\n",
       "      <td>0.3</td>\n",
       "      <td>1</td>\n",
       "      <td>0.025</td>\n",
       "      <td>0.9</td>\n",
       "      <td>1</td>\n",
       "      <td>1</td>\n",
       "      <td>0.750000</td>\n",
       "      <td>0.750000</td>\n",
       "      <td>-2.631089</td>\n",
       "      <td>-2.631089</td>\n",
       "    </tr>\n",
       "  </tbody>\n",
       "</table>\n",
       "</div>"
      ],
      "text/plain": [
       "   match_probability unique_id_l unique_id_r  gamma_col_1  \\\n",
       "0           0.008475    b70605f4    bcbc0e28            0   \n",
       "1           0.750000    8bb19921    33d3d035            0   \n",
       "2           0.750000    17dde00f    8945a9ce            0   \n",
       "3           0.750000    48ae98dc    126bada9            0   \n",
       "4           0.750000    bd84112c    f7dd4642            0   \n",
       "\n",
       "   prob_gamma_col_1_non_match  prob_gamma_col_1_match  gamma_col_2  \\\n",
       "0                         0.9                     0.3            0   \n",
       "1                         0.9                     0.3            1   \n",
       "2                         0.9                     0.3            1   \n",
       "3                         0.9                     0.3            1   \n",
       "4                         0.9                     0.3            1   \n",
       "\n",
       "   prob_gamma_col_2_non_match  prob_gamma_col_2_match  true_match_l  \\\n",
       "0                       0.975                     0.1             1   \n",
       "1                       0.025                     0.9             1   \n",
       "2                       0.025                     0.9             1   \n",
       "3                       0.025                     0.9             1   \n",
       "4                       0.025                     0.9             1   \n",
       "\n",
       "   true_match_r  true_match_probability_l  true_match_probability_r  \\\n",
       "0             1                  0.008475                  0.008475   \n",
       "1             1                  0.750000                  0.750000   \n",
       "2             1                  0.750000                  0.750000   \n",
       "3             1                  0.750000                  0.750000   \n",
       "4             1                  0.750000                  0.750000   \n",
       "\n",
       "   true_log_likelihood_l  true_log_likelihood_r  \n",
       "0              -0.345311              -0.345311  \n",
       "1              -2.631089              -2.631089  \n",
       "2              -2.631089              -2.631089  \n",
       "3              -2.631089              -2.631089  \n",
       "4              -2.631089              -2.631089  "
      ]
     },
     "execution_count": 14,
     "metadata": {},
     "output_type": "execute_result"
    }
   ],
   "source": [
    "# Now use Splink to estimate the params from the data\n",
    "\n",
    "from splink_data_generation.estimate_splink import estimate\n",
    "\n",
    "df_e, linker = estimate(df, settings ,spark)\n",
    "df_e.toPandas().head(5)"
   ]
  },
  {
   "cell_type": "markdown",
   "metadata": {},
   "source": [
    "As expected, Splink converges immediately because it realises that it's already at an optima"
   ]
  },
  {
   "cell_type": "markdown",
   "metadata": {},
   "source": [
    "## What happens if we use Splink default starting values?"
   ]
  },
  {
   "cell_type": "code",
   "execution_count": 29,
   "metadata": {},
   "outputs": [],
   "source": [
    "settings_2 = {\n",
    "    \"link_type\": \"dedupe_only\",\n",
    "    \"comparison_columns\": [\n",
    "        {\n",
    "            \"col_name\": \"col_1\",\n",
    "        },\n",
    "        {\n",
    "            \"col_name\": \"col_2\",\n",
    "        }\n",
    "    ],\n",
    "    \"max_iterations\": 200,\n",
    "    \"em_convergence\": 0.0001,\n",
    "    \"additional_columns_to_retain\": [\n",
    "        \"true_match\", \"true_match_probability\", \"true_log_likelihood\"\n",
    "    ]\n",
    "}"
   ]
  },
  {
   "cell_type": "code",
   "execution_count": 30,
   "metadata": {},
   "outputs": [
    {
     "name": "stderr",
     "output_type": "stream",
     "text": [
      "INFO:splink.expectation_step:Log likelihood for iteration 0:  -485.16447604748\n",
      "INFO:splink.iterate:Iteration 0 complete\n",
      "INFO:splink.params:The maximum change in parameters was 0.07664320766925811 for key π_gamma_col_2_prob_dist_match_level_0_probability\n",
      "INFO:splink.expectation_step:Log likelihood for iteration 1:  -458.302822026541\n",
      "INFO:splink.iterate:Iteration 1 complete\n",
      "INFO:splink.params:The maximum change in parameters was 0.003287985920906067 for key π_gamma_col_2_prob_dist_match_level_0_probability\n",
      "INFO:splink.expectation_step:Log likelihood for iteration 2:  -458.2815435045475\n",
      "INFO:splink.iterate:Iteration 2 complete\n",
      "INFO:splink.params:The maximum change in parameters was 0.0007975101470947266 for key π_gamma_col_2_prob_dist_match_level_1_probability\n",
      "INFO:splink.expectation_step:Log likelihood for iteration 3:  -458.28031808776996\n",
      "INFO:splink.iterate:Iteration 3 complete\n",
      "INFO:splink.params:The maximum change in parameters was 0.00019615888595581055 for key π_gamma_col_2_prob_dist_match_level_0_probability\n",
      "INFO:splink.expectation_step:Log likelihood for iteration 4:  -458.2802495787635\n",
      "INFO:splink.iterate:Iteration 4 complete\n",
      "INFO:splink.params:The maximum change in parameters was 4.8413872718811035e-05 for key π_gamma_col_2_prob_dist_match_level_0_probability\n",
      "INFO:splink.iterate:EM algorithm has converged\n",
      "INFO:splink.expectation_step:Log likelihood for iteration 5:  -458.28023276382135\n"
     ]
    }
   ],
   "source": [
    "df_e, linker = estimate(df, deepcopy(settings_2) ,spark)"
   ]
  },
  {
   "cell_type": "code",
   "execution_count": 31,
   "metadata": {},
   "outputs": [
    {
     "data": {
      "text/plain": [
       "λ (proportion of matches) = 0.17653286457061768\n",
       "------------------------------------\n",
       "gamma_col_1: Comparison of col_1\n",
       "\n",
       "Probability distribution of gamma values amongst matches:\n",
       "    value 0: 0.146975 (level represents lowest category of string similarity)\n",
       "    value 1: 0.853025 (level represents highest category of string similarity)\n",
       "\n",
       "Probability distribution of gamma values amongst non-matches:\n",
       "    value 0: 0.915706 (level represents lowest category of string similarity)\n",
       "    value 1: 0.084294 (level represents highest category of string similarity)\n",
       "------------------------------------\n",
       "gamma_col_2: Comparison of col_2\n",
       "\n",
       "Probability distribution of gamma values amongst matches:\n",
       "    value 0: 0.180973 (level represents lowest category of string similarity)\n",
       "    value 1: 0.819027 (level represents highest category of string similarity)\n",
       "\n",
       "Probability distribution of gamma values amongst non-matches:\n",
       "    value 0: 0.932705 (level represents lowest category of string similarity)\n",
       "    value 1: 0.067295 (level represents highest category of string similarity)"
      ]
     },
     "execution_count": 31,
     "metadata": {},
     "output_type": "execute_result"
    }
   ],
   "source": [
    "linker.model"
   ]
  },
  {
   "cell_type": "markdown",
   "metadata": {},
   "source": [
    "## Generating data according to the 'alternative' data generating mechanism\n",
    "\n",
    "We see we get the _same_ log likelihood with _different_ parameters.\n",
    "\n",
    "What happens if we generate a dataset using the alternative parameters?  "
   ]
  },
  {
   "cell_type": "code",
   "execution_count": 35,
   "metadata": {},
   "outputs": [
    {
     "data": {
      "text/plain": [
       "{'link_type': 'dedupe_only',\n",
       " 'comparison_columns': [{'col_name': 'col_1',\n",
       "   'm_probabilities': [0.14697474241256714, 0.8530252575874329],\n",
       "   'u_probabilities': [0.9157063961029053, 0.08429359644651413]},\n",
       "  {'col_name': 'col_2',\n",
       "   'm_probabilities': [0.18097323179244995, 0.81902676820755],\n",
       "   'u_probabilities': [0.9327054619789124, 0.06729456037282944]}],\n",
       " 'max_iterations': 200,\n",
       " 'em_convergence': 0.0001,\n",
       " 'additional_columns_to_retain': ['true_match',\n",
       "  'true_match_probability',\n",
       "  'true_log_likelihood'],\n",
       " 'proportion_of_matches': 0.17653286457061768}"
      ]
     },
     "execution_count": 35,
     "metadata": {},
     "output_type": "execute_result"
    }
   ],
   "source": [
    "from splink.params import get_or_update_settings\n",
    "settings_alternative = get_or_update_settings(linker.model, settings_2)\n",
    "settings_alternative"
   ]
  },
  {
   "cell_type": "markdown",
   "metadata": {},
   "source": [
    "Note that we have to use `generate_df_gammas_random` becaues to use `generate_df_gammas_exact` requires the `m` and `u` probabilities to have a 'reasonably small' lowest common multiplier (see [here](https://github.com/moj-analytical-services/splink_data_generation/blob/a2ab256f6cd25899c4c84cfa1b58bca615249a15/splink_data_generation/generate_data_exact.py#L56))"
   ]
  },
  {
   "cell_type": "code",
   "execution_count": 49,
   "metadata": {},
   "outputs": [
    {
     "data": {
      "text/html": [
       "<div>\n",
       "<style scoped>\n",
       "    .dataframe tbody tr th:only-of-type {\n",
       "        vertical-align: middle;\n",
       "    }\n",
       "\n",
       "    .dataframe tbody tr th {\n",
       "        vertical-align: top;\n",
       "    }\n",
       "\n",
       "    .dataframe thead th {\n",
       "        text-align: right;\n",
       "    }\n",
       "</style>\n",
       "<table border=\"1\" class=\"dataframe\">\n",
       "  <thead>\n",
       "    <tr style=\"text-align: right;\">\n",
       "      <th></th>\n",
       "      <th>gamma_col_1</th>\n",
       "      <th>gamma_col_2</th>\n",
       "      <th>true_match_l</th>\n",
       "      <th>true_match_r</th>\n",
       "      <th>unique_id_l</th>\n",
       "      <th>unique_id_r</th>\n",
       "    </tr>\n",
       "  </thead>\n",
       "  <tbody>\n",
       "    <tr>\n",
       "      <th>0</th>\n",
       "      <td>0</td>\n",
       "      <td>0</td>\n",
       "      <td>1</td>\n",
       "      <td>1</td>\n",
       "      <td>72f6b960</td>\n",
       "      <td>fc09318a</td>\n",
       "    </tr>\n",
       "    <tr>\n",
       "      <th>1</th>\n",
       "      <td>1</td>\n",
       "      <td>1</td>\n",
       "      <td>1</td>\n",
       "      <td>1</td>\n",
       "      <td>b82f182e</td>\n",
       "      <td>67193a46</td>\n",
       "    </tr>\n",
       "    <tr>\n",
       "      <th>2</th>\n",
       "      <td>1</td>\n",
       "      <td>1</td>\n",
       "      <td>1</td>\n",
       "      <td>1</td>\n",
       "      <td>8d3abbc4</td>\n",
       "      <td>a72471df</td>\n",
       "    </tr>\n",
       "    <tr>\n",
       "      <th>3</th>\n",
       "      <td>1</td>\n",
       "      <td>1</td>\n",
       "      <td>1</td>\n",
       "      <td>1</td>\n",
       "      <td>2ab13e2f</td>\n",
       "      <td>7acae1a7</td>\n",
       "    </tr>\n",
       "    <tr>\n",
       "      <th>4</th>\n",
       "      <td>1</td>\n",
       "      <td>1</td>\n",
       "      <td>1</td>\n",
       "      <td>1</td>\n",
       "      <td>b085f5e1</td>\n",
       "      <td>f91f18d2</td>\n",
       "    </tr>\n",
       "  </tbody>\n",
       "</table>\n",
       "</div>"
      ],
      "text/plain": [
       "   gamma_col_1  gamma_col_2  true_match_l  true_match_r unique_id_l  \\\n",
       "0            0            0             1             1    72f6b960   \n",
       "1            1            1             1             1    b82f182e   \n",
       "2            1            1             1             1    8d3abbc4   \n",
       "3            1            1             1             1    2ab13e2f   \n",
       "4            1            1             1             1    b085f5e1   \n",
       "\n",
       "  unique_id_r  \n",
       "0    fc09318a  \n",
       "1    67193a46  \n",
       "2    a72471df  \n",
       "3    7acae1a7  \n",
       "4    f91f18d2  "
      ]
     },
     "execution_count": 49,
     "metadata": {},
     "output_type": "execute_result"
    }
   ],
   "source": [
    "from splink_data_generation.generate_data_random import generate_df_gammas_random\n",
    "# Increase number of rows for higher accuracy!\n",
    "df_alt = generate_df_gammas_random(1000000, settings_alternative)  \n",
    "df_alt.head()"
   ]
  },
  {
   "cell_type": "markdown",
   "metadata": {},
   "source": [
    "In a real-world linking situation, the only information we have is the comparison vectors (the gamma columns).\n",
    "\n",
    "Is there any difference between the gammas columns in this alternative dataset `df_alt`, and the original dataset `df`?"
   ]
  },
  {
   "cell_type": "code",
   "execution_count": 50,
   "metadata": {},
   "outputs": [
    {
     "data": {
      "text/html": [
       "<div>\n",
       "<style scoped>\n",
       "    .dataframe tbody tr th:only-of-type {\n",
       "        vertical-align: middle;\n",
       "    }\n",
       "\n",
       "    .dataframe tbody tr th {\n",
       "        vertical-align: top;\n",
       "    }\n",
       "\n",
       "    .dataframe thead th {\n",
       "        text-align: right;\n",
       "    }\n",
       "</style>\n",
       "<table border=\"1\" class=\"dataframe\">\n",
       "  <thead>\n",
       "    <tr style=\"text-align: right;\">\n",
       "      <th></th>\n",
       "      <th>gamma_col_1</th>\n",
       "      <th>gamma_col_2</th>\n",
       "    </tr>\n",
       "  </thead>\n",
       "  <tbody>\n",
       "    <tr>\n",
       "      <th>gamma_col_1</th>\n",
       "      <td>1.000000</td>\n",
       "      <td>0.506945</td>\n",
       "    </tr>\n",
       "    <tr>\n",
       "      <th>gamma_col_2</th>\n",
       "      <td>0.506945</td>\n",
       "      <td>1.000000</td>\n",
       "    </tr>\n",
       "  </tbody>\n",
       "</table>\n",
       "</div>"
      ],
      "text/plain": [
       "             gamma_col_1  gamma_col_2\n",
       "gamma_col_1     1.000000     0.506945\n",
       "gamma_col_2     0.506945     1.000000"
      ]
     },
     "metadata": {},
     "output_type": "display_data"
    },
    {
     "data": {
      "text/html": [
       "<div>\n",
       "<style scoped>\n",
       "    .dataframe tbody tr th:only-of-type {\n",
       "        vertical-align: middle;\n",
       "    }\n",
       "\n",
       "    .dataframe tbody tr th {\n",
       "        vertical-align: top;\n",
       "    }\n",
       "\n",
       "    .dataframe thead th {\n",
       "        text-align: right;\n",
       "    }\n",
       "</style>\n",
       "<table border=\"1\" class=\"dataframe\">\n",
       "  <thead>\n",
       "    <tr style=\"text-align: right;\">\n",
       "      <th></th>\n",
       "      <th>gamma_col_1</th>\n",
       "      <th>gamma_col_2</th>\n",
       "    </tr>\n",
       "  </thead>\n",
       "  <tbody>\n",
       "    <tr>\n",
       "      <th>gamma_col_1</th>\n",
       "      <td>1.000000</td>\n",
       "      <td>0.507404</td>\n",
       "    </tr>\n",
       "    <tr>\n",
       "      <th>gamma_col_2</th>\n",
       "      <td>0.507404</td>\n",
       "      <td>1.000000</td>\n",
       "    </tr>\n",
       "  </tbody>\n",
       "</table>\n",
       "</div>"
      ],
      "text/plain": [
       "             gamma_col_1  gamma_col_2\n",
       "gamma_col_1     1.000000     0.507404\n",
       "gamma_col_2     0.507404     1.000000"
      ]
     },
     "metadata": {},
     "output_type": "display_data"
    }
   ],
   "source": [
    "display(df[[\"gamma_col_1\", \"gamma_col_2\"]].corr())\n",
    "display(df_alt[[\"gamma_col_1\", \"gamma_col_2\"]].corr())"
   ]
  },
  {
   "cell_type": "code",
   "execution_count": 51,
   "metadata": {},
   "outputs": [
    {
     "data": {
      "text/plain": [
       "gamma_col_1    0.22\n",
       "gamma_col_2    0.20\n",
       "dtype: float64"
      ]
     },
     "metadata": {},
     "output_type": "display_data"
    },
    {
     "data": {
      "text/plain": [
       "gamma_col_1    0.220664\n",
       "gamma_col_2    0.200167\n",
       "dtype: float64"
      ]
     },
     "metadata": {},
     "output_type": "display_data"
    }
   ],
   "source": [
    "display(df[[\"gamma_col_1\", \"gamma_col_2\"]].mean())\n",
    "display(df_alt[[\"gamma_col_1\", \"gamma_col_2\"]].mean())"
   ]
  },
  {
   "cell_type": "markdown",
   "metadata": {},
   "source": [
    "This demonstrates these two dataframes are identical (the small differences are due to statistical variation because we drew rows at random to create `df_alt`)"
   ]
  },
  {
   "cell_type": "markdown",
   "metadata": {},
   "source": [
    "One reason I find this result surprising is that the `gamma` columns are the same, but the overall proportion of matches differs between the two sets of parameters"
   ]
  },
  {
   "cell_type": "code",
   "execution_count": null,
   "metadata": {},
   "outputs": [],
   "source": []
  }
 ],
 "metadata": {
  "kernelspec": {
   "display_name": "Python 3",
   "language": "python",
   "name": "python3"
  },
  "language_info": {
   "codemirror_mode": {
    "name": "ipython",
    "version": 3
   },
   "file_extension": ".py",
   "mimetype": "text/x-python",
   "name": "python",
   "nbconvert_exporter": "python",
   "pygments_lexer": "ipython3",
   "version": "3.8.3"
  }
 },
 "nbformat": 4,
 "nbformat_minor": 4
}
