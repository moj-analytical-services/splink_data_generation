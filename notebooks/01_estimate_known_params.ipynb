{
 "cells": [
  {
   "cell_type": "markdown",
   "metadata": {},
   "source": [
    "# Exploring EM estimates of Fellegi-Sunter parameters from datasets with known parameters"
   ]
  },
  {
   "cell_type": "markdown",
   "metadata": {},
   "source": [
    "[`splink_data_generation`](https://github.com/moj-analytical-services/splink_data_generation) is a Python package that is able to generate datasets with known parameters.\n",
    "\n",
    "It has two main ways of generating data:\n",
    "- `generate_df_gammas_exact`, which produces a dataset with parameters that precisely match the `m` and `u` values specified, and that precisely obeys the assumption of independence of comparison of linking variables conditional on match status.  This function has three limitations:  \n",
    "\n",
    "    (1) It's not possible to control the overall proportion of matches in the output dataset, and \n",
    "    \n",
    "    (2) It's not possible to generate data that breaks the assumption of conditional independence.\n",
    "    \n",
    "    (3) As the complexity of the dataset requested increases, the number of rows generated to satisfy the assumptions can be very high\n",
    "\n",
    "- `generate_df_gammas_random`, which produces rows at random using the data generating mechanism specified by the supplied parameters.  This function allows the user to specify the proportion of matches, and a covariance matrix which dictates correlations between linking variables conditional on match status.  Since rows are generated at random, the parameters of the resultant dataset will converge to true parameters and the number of rows generated tends to infinity.  \n",
    "\n"
   ]
  },
  {
   "cell_type": "markdown",
   "metadata": {},
   "source": [
    "In this notebook, I demonstrate the ability of the EM algorithm to correctly estimate parameters.  I also explore convergence and demonstrate the possibilty that there can sometimes be several local optima, and the EM algorithm doesn't necessarily converge to the parameters of the data generating mechanism.\n"
   ]
  },
  {
   "cell_type": "markdown",
   "metadata": {},
   "source": [
    "## Generate the data\n",
    "\n",
    "We start by using a `splink` settings object (see [editor](https://moj-analytical-services.github.io/splink_settings_editor/)) to specify the columns for our dataframe and the `m` and `u` probabilities.\n",
    "\n",
    "I have set a few other options to ensure more precise convergnce, and to make sure that the datasets produced by `splink` retain useful information such as the 'ground truth' label of whether the row is a match according to the data generating process. "
   ]
  },
  {
   "cell_type": "code",
   "execution_count": 2,
   "metadata": {},
   "outputs": [],
   "source": [
    "settings = {\n",
    "    \"proportion_of_matches\": 0.2,\n",
    "    \"link_type\": \"dedupe_only\",\n",
    "    \"comparison_columns\": [\n",
    "        {\n",
    "            \"col_name\": \"col_1\",\n",
    "            \"m_probabilities\": [0.3, 0.7],  # Probability of typo\n",
    "            \"u_probabilities\": [0.9, 0.1],  # Probability of collision\n",
    "        },\n",
    "        {\n",
    "            \"col_name\": \"col_2\",\n",
    "            \"m_probabilities\": [0.1, 0.9],  # Probability of typo\n",
    "            \"u_probabilities\": [0.975, 0.025],  # Probability of collision\n",
    "        },\n",
    "        {\n",
    "            \"col_name\": \"col_3\",\n",
    "            \"m_probabilities\": [0.05, 0.95],  # Probability of typo\n",
    "            \"u_probabilities\": [0.8, 0.2],  # Probability of collision\n",
    "        },\n",
    "    ],\n",
    "    \"max_iterations\": 200,\n",
    "    \"em_convergence\": 0.0001,\n",
    "     \"additional_columns_to_retain\": [\n",
    "        \"true_match\", \"true_match_probability\"\n",
    "    ]\n",
    "}"
   ]
  },
  {
   "cell_type": "markdown",
   "metadata": {},
   "source": [
    "I now use `splink_data_generation` to generate some data according to these `m` and `u` values:"
   ]
  },
  {
   "cell_type": "code",
   "execution_count": 3,
   "metadata": {},
   "outputs": [
    {
     "name": "stderr",
     "output_type": "stream",
     "text": [
      "/Users/robinlinacre/anaconda3/lib/python3.8/site-packages/splink_data_generation/generate_data_exact.py:130: UserWarning: Note that the proportion_of_matches setting is ignored by this generator. Only the m_probabilities and u_probabilities are observed. The proportion of matches in the generated dataset was 0.500\n",
      "  warnings.warn(\n"
     ]
    },
    {
     "data": {
      "text/html": [
       "<div>\n",
       "<style scoped>\n",
       "    .dataframe tbody tr th:only-of-type {\n",
       "        vertical-align: middle;\n",
       "    }\n",
       "\n",
       "    .dataframe tbody tr th {\n",
       "        vertical-align: top;\n",
       "    }\n",
       "\n",
       "    .dataframe thead th {\n",
       "        text-align: right;\n",
       "    }\n",
       "</style>\n",
       "<table border=\"1\" class=\"dataframe\">\n",
       "  <thead>\n",
       "    <tr style=\"text-align: right;\">\n",
       "      <th></th>\n",
       "      <th>gamma_col_1</th>\n",
       "      <th>gamma_col_2</th>\n",
       "      <th>gamma_col_3</th>\n",
       "      <th>true_match_l</th>\n",
       "      <th>unique_id_l</th>\n",
       "      <th>true_match_probability_l</th>\n",
       "      <th>true_log_likelihood_l</th>\n",
       "    </tr>\n",
       "  </thead>\n",
       "  <tbody>\n",
       "    <tr>\n",
       "      <th>0</th>\n",
       "      <td>0</td>\n",
       "      <td>0</td>\n",
       "      <td>0</td>\n",
       "      <td>1</td>\n",
       "      <td>b3bbf501</td>\n",
       "      <td>0.002132</td>\n",
       "      <td>-1.044835</td>\n",
       "    </tr>\n",
       "    <tr>\n",
       "      <th>1</th>\n",
       "      <td>0</td>\n",
       "      <td>1</td>\n",
       "      <td>0</td>\n",
       "      <td>1</td>\n",
       "      <td>07874d3d</td>\n",
       "      <td>0.428571</td>\n",
       "      <td>-4.150915</td>\n",
       "    </tr>\n",
       "    <tr>\n",
       "      <th>2</th>\n",
       "      <td>0</td>\n",
       "      <td>1</td>\n",
       "      <td>0</td>\n",
       "      <td>1</td>\n",
       "      <td>9d723585</td>\n",
       "      <td>0.428571</td>\n",
       "      <td>-4.150915</td>\n",
       "    </tr>\n",
       "    <tr>\n",
       "      <th>3</th>\n",
       "      <td>0</td>\n",
       "      <td>1</td>\n",
       "      <td>0</td>\n",
       "      <td>1</td>\n",
       "      <td>265b8dce</td>\n",
       "      <td>0.428571</td>\n",
       "      <td>-4.150915</td>\n",
       "    </tr>\n",
       "    <tr>\n",
       "      <th>4</th>\n",
       "      <td>0</td>\n",
       "      <td>1</td>\n",
       "      <td>0</td>\n",
       "      <td>1</td>\n",
       "      <td>0cd9d9d5</td>\n",
       "      <td>0.428571</td>\n",
       "      <td>-4.150915</td>\n",
       "    </tr>\n",
       "  </tbody>\n",
       "</table>\n",
       "</div>"
      ],
      "text/plain": [
       "   gamma_col_1  gamma_col_2  gamma_col_3  true_match_l unique_id_l  \\\n",
       "0            0            0            0             1    b3bbf501   \n",
       "1            0            1            0             1    07874d3d   \n",
       "2            0            1            0             1    9d723585   \n",
       "3            0            1            0             1    265b8dce   \n",
       "4            0            1            0             1    0cd9d9d5   \n",
       "\n",
       "   true_match_probability_l  true_log_likelihood_l  \n",
       "0                  0.002132              -1.044835  \n",
       "1                  0.428571              -4.150915  \n",
       "2                  0.428571              -4.150915  \n",
       "3                  0.428571              -4.150915  \n",
       "4                  0.428571              -4.150915  "
      ]
     },
     "execution_count": 3,
     "metadata": {},
     "output_type": "execute_result"
    }
   ],
   "source": [
    "from splink_data_generation.generate_data_exact import generate_df_gammas_exact\n",
    "from splink_data_generation.match_prob import add_match_prob\n",
    "from splink_data_generation.log_likelihood import add_log_likelihood\n",
    "df = generate_df_gammas_exact(settings)\n",
    "df = add_match_prob(df, settings)\n",
    "df = add_log_likelihood(df, settings)\n",
    "cols = [c for c in df.columns if \"_r\" not in c]\n",
    "df[cols].head()"
   ]
  },
  {
   "cell_type": "code",
   "execution_count": 4,
   "metadata": {},
   "outputs": [
    {
     "data": {
      "text/markdown": [
       "\n",
       "The number of rows in the simulated dataset is 4,000\n",
       "\n",
       "The proportion of matches according to `true_match` status is 0.5000\n",
       "\n",
       "The expected proportion of matches according to `true_match_probability` status is 0.5000\n",
       "\n",
       "The log likelihood of the dataset given the true parameters is -6,507.16\n"
      ],
      "text/plain": [
       "<IPython.core.display.Markdown object>"
      ]
     },
     "metadata": {},
     "output_type": "display_data"
    }
   ],
   "source": [
    "from IPython.display import display, Markdown\n",
    "import numpy as np\n",
    "\n",
    "\n",
    "binary_prop = df[\"true_match_l\"].mean()\n",
    "prob_prop = df[\"true_match_probability_l\"].mean()\n",
    "log_likelihood = sum(df[\"true_log_likelihood_l\"])\n",
    "\n",
    "md = f\"\"\"\n",
    "The number of rows in the simulated dataset is {len(df):,.0f}\n",
    "\n",
    "The proportion of matches according to `true_match` status is {binary_prop:,.4f}\n",
    "\n",
    "The expected proportion of matches according to `true_match_probability` status is {prob_prop:,.4f}\n",
    "\n",
    "The log likelihood of the dataset given the true parameters is {log_likelihood:,.2f}\n",
    "\"\"\"\n",
    "\n",
    "display(Markdown(md))"
   ]
  },
  {
   "cell_type": "markdown",
   "metadata": {},
   "source": [
    "We can see there are correlations amongst the values in comparison vectors:"
   ]
  },
  {
   "cell_type": "code",
   "execution_count": 21,
   "metadata": {},
   "outputs": [
    {
     "data": {
      "text/html": [
       "<div>\n",
       "<style scoped>\n",
       "    .dataframe tbody tr th:only-of-type {\n",
       "        vertical-align: middle;\n",
       "    }\n",
       "\n",
       "    .dataframe tbody tr th {\n",
       "        vertical-align: top;\n",
       "    }\n",
       "\n",
       "    .dataframe thead th {\n",
       "        text-align: right;\n",
       "    }\n",
       "</style>\n",
       "<table border=\"1\" class=\"dataframe\">\n",
       "  <thead>\n",
       "    <tr style=\"text-align: right;\">\n",
       "      <th></th>\n",
       "      <th>gamma_col_1</th>\n",
       "      <th>gamma_col_2</th>\n",
       "      <th>gamma_col_3</th>\n",
       "    </tr>\n",
       "  </thead>\n",
       "  <tbody>\n",
       "    <tr>\n",
       "      <th>gamma_col_1</th>\n",
       "      <td>1.000000</td>\n",
       "      <td>0.537339</td>\n",
       "      <td>0.464535</td>\n",
       "    </tr>\n",
       "    <tr>\n",
       "      <th>gamma_col_2</th>\n",
       "      <td>0.537339</td>\n",
       "      <td>1.000000</td>\n",
       "      <td>0.665635</td>\n",
       "    </tr>\n",
       "    <tr>\n",
       "      <th>gamma_col_3</th>\n",
       "      <td>0.464535</td>\n",
       "      <td>0.665635</td>\n",
       "      <td>1.000000</td>\n",
       "    </tr>\n",
       "  </tbody>\n",
       "</table>\n",
       "</div>"
      ],
      "text/plain": [
       "             gamma_col_1  gamma_col_2  gamma_col_3\n",
       "gamma_col_1     1.000000     0.537339     0.464535\n",
       "gamma_col_2     0.537339     1.000000     0.665635\n",
       "gamma_col_3     0.464535     0.665635     1.000000"
      ]
     },
     "execution_count": 21,
     "metadata": {},
     "output_type": "execute_result"
    }
   ],
   "source": [
    "df[[\"gamma_col_1\", \"gamma_col_2\", \"gamma_col_3\"]].corr()"
   ]
  },
  {
   "cell_type": "markdown",
   "metadata": {},
   "source": [
    "But as expected there are no correlations when conditioning on match status:"
   ]
  },
  {
   "cell_type": "code",
   "execution_count": 25,
   "metadata": {},
   "outputs": [
    {
     "data": {
      "text/html": [
       "<div>\n",
       "<style scoped>\n",
       "    .dataframe tbody tr th:only-of-type {\n",
       "        vertical-align: middle;\n",
       "    }\n",
       "\n",
       "    .dataframe tbody tr th {\n",
       "        vertical-align: top;\n",
       "    }\n",
       "\n",
       "    .dataframe thead th {\n",
       "        text-align: right;\n",
       "    }\n",
       "</style>\n",
       "<table border=\"1\" class=\"dataframe\">\n",
       "  <thead>\n",
       "    <tr style=\"text-align: right;\">\n",
       "      <th></th>\n",
       "      <th>gamma_col_1</th>\n",
       "      <th>gamma_col_2</th>\n",
       "      <th>gamma_col_3</th>\n",
       "    </tr>\n",
       "  </thead>\n",
       "  <tbody>\n",
       "    <tr>\n",
       "      <th>gamma_col_1</th>\n",
       "      <td>1.0000</td>\n",
       "      <td>0.0000</td>\n",
       "      <td>-0.0000</td>\n",
       "    </tr>\n",
       "    <tr>\n",
       "      <th>gamma_col_2</th>\n",
       "      <td>0.0000</td>\n",
       "      <td>1.0000</td>\n",
       "      <td>0.0000</td>\n",
       "    </tr>\n",
       "    <tr>\n",
       "      <th>gamma_col_3</th>\n",
       "      <td>-0.0000</td>\n",
       "      <td>0.0000</td>\n",
       "      <td>1.0000</td>\n",
       "    </tr>\n",
       "  </tbody>\n",
       "</table>\n",
       "</div>"
      ],
      "text/plain": [
       "             gamma_col_1  gamma_col_2  gamma_col_3\n",
       "gamma_col_1       1.0000       0.0000      -0.0000\n",
       "gamma_col_2       0.0000       1.0000       0.0000\n",
       "gamma_col_3      -0.0000       0.0000       1.0000"
      ]
     },
     "execution_count": 25,
     "metadata": {},
     "output_type": "execute_result"
    }
   ],
   "source": [
    "import pandas as pd\n",
    "pd.options.display.float_format = '{:,.4f}'.format\n",
    "df_m = df[df[\"true_match_l\"]==1]\n",
    "df_m[[\"gamma_col_1\", \"gamma_col_2\", \"gamma_col_3\"]].corr()"
   ]
  },
  {
   "cell_type": "markdown",
   "metadata": {},
   "source": [
    "## Estimate parameters using Splink."
   ]
  },
  {
   "cell_type": "markdown",
   "metadata": {},
   "source": [
    "### Test 1: Use starting parameters equal to true parameters\n",
    "\n",
    "\n",
    "In this experiment, we give Splink starting parameters equal to the correct parameters.  We expect the algorithm to converge immediately"
   ]
  },
  {
   "cell_type": "code",
   "execution_count": 5,
   "metadata": {},
   "outputs": [],
   "source": [
    "settings_2 = {\n",
    "    \"proportion_of_matches\": 0.5,\n",
    "    \"link_type\": \"dedupe_only\",\n",
    "    \"comparison_columns\": [\n",
    "        {\n",
    "            \"col_name\": \"col_1\",\n",
    "            \"m_probabilities\": [0.3, 0.7],  \n",
    "            \"u_probabilities\": [0.9, 0.1],  \n",
    "        },\n",
    "        {\n",
    "            \"col_name\": \"col_2\",\n",
    "            \"m_probabilities\": [0.1, 0.9],  \n",
    "            \"u_probabilities\": [0.975, 0.025], \n",
    "        },\n",
    "        {\n",
    "            \"col_name\": \"col_3\",\n",
    "            \"m_probabilities\": [0.05, 0.95],  \n",
    "            \"u_probabilities\": [0.8, 0.2],  \n",
    "        },\n",
    "    ],\n",
    "     \"additional_columns_to_retain\": [\n",
    "        \"true_match\", \"true_match_probability\"\n",
    "    ]\n",
    "}"
   ]
  },
  {
   "cell_type": "code",
   "execution_count": 6,
   "metadata": {},
   "outputs": [],
   "source": [
    "import logging \n",
    "logging.basicConfig()  # Means logs will print in Jupyter Lab\n",
    "\n",
    "# Set to DEBUG if you want splink to log the SQL statements it's executing under the hood\n",
    "logging.getLogger(\"splink\").setLevel(logging.INFO)\n",
    "\n",
    "from pyspark.context import SparkContext\n",
    "from pyspark.sql import SparkSession\n",
    "sc = SparkContext.getOrCreate()\n",
    "spark = SparkSession(sc)"
   ]
  },
  {
   "cell_type": "code",
   "execution_count": 7,
   "metadata": {},
   "outputs": [
    {
     "name": "stderr",
     "output_type": "stream",
     "text": [
      "/Users/robinlinacre/anaconda3/lib/python3.8/site-packages/splink/case_statements.py:17: UserWarning: The jaro_winkler_sim user definined function is not available in Spark Or you did not pass 'spark' (the SparkSession) into 'Params' Falling back to using levenshtein in the default string comparison functions You can import these functions using the scala-udf-similarity-0.0.6.jar provided with Splink\n",
      "  warnings.warn(f\"The jaro_winkler_sim user definined function is not available in Spark \"\n",
      "INFO:splink.expectation_step:Log likelihood for iteration 0:  -6507.157544158125\n",
      "INFO:splink.iterate:Iteration 0 complete\n",
      "INFO:splink.params:The maximum change in parameters was 2.384185793236071e-08 for key π_gamma_col_1_prob_dist_non_match_level_0_probability\n",
      "INFO:splink.iterate:EM algorithm has converged\n",
      "INFO:splink.expectation_step:Log likelihood for iteration 1:  -6507.157577685738\n"
     ]
    },
    {
     "data": {
      "text/html": [
       "<div>\n",
       "<style scoped>\n",
       "    .dataframe tbody tr th:only-of-type {\n",
       "        vertical-align: middle;\n",
       "    }\n",
       "\n",
       "    .dataframe tbody tr th {\n",
       "        vertical-align: top;\n",
       "    }\n",
       "\n",
       "    .dataframe thead th {\n",
       "        text-align: right;\n",
       "    }\n",
       "</style>\n",
       "<table border=\"1\" class=\"dataframe\">\n",
       "  <thead>\n",
       "    <tr style=\"text-align: right;\">\n",
       "      <th></th>\n",
       "      <th>match_probability</th>\n",
       "      <th>unique_id_l</th>\n",
       "      <th>unique_id_r</th>\n",
       "      <th>gamma_col_1</th>\n",
       "      <th>prob_gamma_col_1_non_match</th>\n",
       "      <th>prob_gamma_col_1_match</th>\n",
       "      <th>gamma_col_2</th>\n",
       "      <th>prob_gamma_col_2_non_match</th>\n",
       "      <th>prob_gamma_col_2_match</th>\n",
       "      <th>gamma_col_3</th>\n",
       "      <th>prob_gamma_col_3_non_match</th>\n",
       "      <th>prob_gamma_col_3_match</th>\n",
       "      <th>true_match_l</th>\n",
       "      <th>true_match_r</th>\n",
       "      <th>true_match_probability_l</th>\n",
       "      <th>true_match_probability_r</th>\n",
       "    </tr>\n",
       "  </thead>\n",
       "  <tbody>\n",
       "    <tr>\n",
       "      <th>0</th>\n",
       "      <td>0.002132</td>\n",
       "      <td>b3bbf501</td>\n",
       "      <td>de3c2715</td>\n",
       "      <td>0</td>\n",
       "      <td>0.9</td>\n",
       "      <td>0.3</td>\n",
       "      <td>0</td>\n",
       "      <td>0.975</td>\n",
       "      <td>0.1</td>\n",
       "      <td>0</td>\n",
       "      <td>0.8</td>\n",
       "      <td>0.05</td>\n",
       "      <td>1</td>\n",
       "      <td>1</td>\n",
       "      <td>0.002132</td>\n",
       "      <td>0.002132</td>\n",
       "    </tr>\n",
       "    <tr>\n",
       "      <th>1</th>\n",
       "      <td>0.428571</td>\n",
       "      <td>07874d3d</td>\n",
       "      <td>aed91f0f</td>\n",
       "      <td>0</td>\n",
       "      <td>0.9</td>\n",
       "      <td>0.3</td>\n",
       "      <td>1</td>\n",
       "      <td>0.025</td>\n",
       "      <td>0.9</td>\n",
       "      <td>0</td>\n",
       "      <td>0.8</td>\n",
       "      <td>0.05</td>\n",
       "      <td>1</td>\n",
       "      <td>1</td>\n",
       "      <td>0.428571</td>\n",
       "      <td>0.428571</td>\n",
       "    </tr>\n",
       "    <tr>\n",
       "      <th>2</th>\n",
       "      <td>0.428571</td>\n",
       "      <td>9d723585</td>\n",
       "      <td>f2ffbdea</td>\n",
       "      <td>0</td>\n",
       "      <td>0.9</td>\n",
       "      <td>0.3</td>\n",
       "      <td>1</td>\n",
       "      <td>0.025</td>\n",
       "      <td>0.9</td>\n",
       "      <td>0</td>\n",
       "      <td>0.8</td>\n",
       "      <td>0.05</td>\n",
       "      <td>1</td>\n",
       "      <td>1</td>\n",
       "      <td>0.428571</td>\n",
       "      <td>0.428571</td>\n",
       "    </tr>\n",
       "    <tr>\n",
       "      <th>3</th>\n",
       "      <td>0.428571</td>\n",
       "      <td>265b8dce</td>\n",
       "      <td>9b56092c</td>\n",
       "      <td>0</td>\n",
       "      <td>0.9</td>\n",
       "      <td>0.3</td>\n",
       "      <td>1</td>\n",
       "      <td>0.025</td>\n",
       "      <td>0.9</td>\n",
       "      <td>0</td>\n",
       "      <td>0.8</td>\n",
       "      <td>0.05</td>\n",
       "      <td>1</td>\n",
       "      <td>1</td>\n",
       "      <td>0.428571</td>\n",
       "      <td>0.428571</td>\n",
       "    </tr>\n",
       "    <tr>\n",
       "      <th>4</th>\n",
       "      <td>0.428571</td>\n",
       "      <td>0cd9d9d5</td>\n",
       "      <td>30495cc8</td>\n",
       "      <td>0</td>\n",
       "      <td>0.9</td>\n",
       "      <td>0.3</td>\n",
       "      <td>1</td>\n",
       "      <td>0.025</td>\n",
       "      <td>0.9</td>\n",
       "      <td>0</td>\n",
       "      <td>0.8</td>\n",
       "      <td>0.05</td>\n",
       "      <td>1</td>\n",
       "      <td>1</td>\n",
       "      <td>0.428571</td>\n",
       "      <td>0.428571</td>\n",
       "    </tr>\n",
       "  </tbody>\n",
       "</table>\n",
       "</div>"
      ],
      "text/plain": [
       "   match_probability unique_id_l unique_id_r  gamma_col_1  \\\n",
       "0           0.002132    b3bbf501    de3c2715            0   \n",
       "1           0.428571    07874d3d    aed91f0f            0   \n",
       "2           0.428571    9d723585    f2ffbdea            0   \n",
       "3           0.428571    265b8dce    9b56092c            0   \n",
       "4           0.428571    0cd9d9d5    30495cc8            0   \n",
       "\n",
       "   prob_gamma_col_1_non_match  prob_gamma_col_1_match  gamma_col_2  \\\n",
       "0                         0.9                     0.3            0   \n",
       "1                         0.9                     0.3            1   \n",
       "2                         0.9                     0.3            1   \n",
       "3                         0.9                     0.3            1   \n",
       "4                         0.9                     0.3            1   \n",
       "\n",
       "   prob_gamma_col_2_non_match  prob_gamma_col_2_match  gamma_col_3  \\\n",
       "0                       0.975                     0.1            0   \n",
       "1                       0.025                     0.9            0   \n",
       "2                       0.025                     0.9            0   \n",
       "3                       0.025                     0.9            0   \n",
       "4                       0.025                     0.9            0   \n",
       "\n",
       "   prob_gamma_col_3_non_match  prob_gamma_col_3_match  true_match_l  \\\n",
       "0                         0.8                    0.05             1   \n",
       "1                         0.8                    0.05             1   \n",
       "2                         0.8                    0.05             1   \n",
       "3                         0.8                    0.05             1   \n",
       "4                         0.8                    0.05             1   \n",
       "\n",
       "   true_match_r  true_match_probability_l  true_match_probability_r  \n",
       "0             1                  0.002132                  0.002132  \n",
       "1             1                  0.428571                  0.428571  \n",
       "2             1                  0.428571                  0.428571  \n",
       "3             1                  0.428571                  0.428571  \n",
       "4             1                  0.428571                  0.428571  "
      ]
     },
     "execution_count": 7,
     "metadata": {},
     "output_type": "execute_result"
    }
   ],
   "source": [
    "# Now use Splink to estimate the params from the data\n",
    "from copy import deepcopy\n",
    "from splink_data_generation.estimate_splink import estimate\n",
    "\n",
    "df_e, linker = estimate(df, settings_2 ,spark)\n",
    "df_e.toPandas().head(5)"
   ]
  },
  {
   "cell_type": "code",
   "execution_count": 8,
   "metadata": {},
   "outputs": [
    {
     "data": {
      "text/plain": [
       "λ (proportion of matches) = 0.5\n",
       "------------------------------------\n",
       "gamma_col_1: Comparison of col_1\n",
       "\n",
       "Probability distribution of gamma values amongst matches:\n",
       "    value 0: 0.300000 (level represents lowest category of string similarity)\n",
       "    value 1: 0.700000 (level represents highest category of string similarity)\n",
       "\n",
       "Probability distribution of gamma values amongst non-matches:\n",
       "    value 0: 0.900000 (level represents lowest category of string similarity)\n",
       "    value 1: 0.100000 (level represents highest category of string similarity)\n",
       "------------------------------------\n",
       "gamma_col_2: Comparison of col_2\n",
       "\n",
       "Probability distribution of gamma values amongst matches:\n",
       "    value 0: 0.100000 (level represents lowest category of string similarity)\n",
       "    value 1: 0.900000 (level represents highest category of string similarity)\n",
       "\n",
       "Probability distribution of gamma values amongst non-matches:\n",
       "    value 0: 0.975000 (level represents lowest category of string similarity)\n",
       "    value 1: 0.025000 (level represents highest category of string similarity)\n",
       "------------------------------------\n",
       "gamma_col_3: Comparison of col_3\n",
       "\n",
       "Probability distribution of gamma values amongst matches:\n",
       "    value 0: 0.050000 (level represents lowest category of string similarity)\n",
       "    value 1: 0.950000 (level represents highest category of string similarity)\n",
       "\n",
       "Probability distribution of gamma values amongst non-matches:\n",
       "    value 0: 0.800000 (level represents lowest category of string similarity)\n",
       "    value 1: 0.200000 (level represents highest category of string similarity)"
      ]
     },
     "execution_count": 8,
     "metadata": {},
     "output_type": "execute_result"
    }
   ],
   "source": [
    "linker.params"
   ]
  },
  {
   "cell_type": "markdown",
   "metadata": {},
   "source": [
    "As expected, Splink does not iterate away from the correct answer.  "
   ]
  },
  {
   "cell_type": "markdown",
   "metadata": {},
   "source": [
    "We can see that the EM algorithm does not iterate away from the true parameters, and the log likeilhood of the estimated model is equal to the true log likelihood\n",
    "\n",
    "What happens if we estimate the model using a different set of starting parameters?"
   ]
  },
  {
   "cell_type": "markdown",
   "metadata": {},
   "source": [
    "### Test 2: Does Splink correctly estimate parameters with default starting parameters"
   ]
  },
  {
   "cell_type": "code",
   "execution_count": 9,
   "metadata": {},
   "outputs": [
    {
     "name": "stderr",
     "output_type": "stream",
     "text": [
      "/Users/robinlinacre/anaconda3/lib/python3.8/site-packages/splink/case_statements.py:17: UserWarning: The jaro_winkler_sim user definined function is not available in Spark Or you did not pass 'spark' (the SparkSession) into 'Params' Falling back to using levenshtein in the default string comparison functions You can import these functions using the scala-udf-similarity-0.0.6.jar provided with Splink\n",
      "  warnings.warn(f\"The jaro_winkler_sim user definined function is not available in Spark \"\n",
      "INFO:splink.expectation_step:Log likelihood for iteration 0:  -7206.433293015898\n",
      "INFO:splink.iterate:Iteration 0 complete\n",
      "INFO:splink.params:The maximum change in parameters was 0.14686706066131594 for key π_gamma_col_3_prob_dist_non_match_level_0_probability\n",
      "INFO:splink.expectation_step:Log likelihood for iteration 1:  -6552.875324091865\n",
      "INFO:splink.iterate:Iteration 1 complete\n",
      "INFO:splink.params:The maximum change in parameters was 0.03220529854297638 for key π_gamma_col_1_prob_dist_match_level_0_probability\n",
      "INFO:splink.expectation_step:Log likelihood for iteration 2:  -6522.666737577306\n",
      "INFO:splink.iterate:Iteration 2 complete\n",
      "INFO:splink.params:The maximum change in parameters was 0.013163864612579346 for key π_gamma_col_2_prob_dist_non_match_level_0_probability\n",
      "INFO:splink.expectation_step:Log likelihood for iteration 3:  -6514.194632285405\n",
      "INFO:splink.iterate:Iteration 3 complete\n",
      "INFO:splink.params:The maximum change in parameters was 0.006959263235330582 for key π_gamma_col_2_prob_dist_non_match_level_1_probability\n",
      "INFO:splink.expectation_step:Log likelihood for iteration 4:  -6510.908455836281\n",
      "INFO:splink.iterate:Iteration 4 complete\n",
      "INFO:splink.params:The maximum change in parameters was 0.004209104925394058 for key π_gamma_col_2_prob_dist_non_match_level_1_probability\n",
      "INFO:splink.expectation_step:Log likelihood for iteration 5:  -6509.258784689866\n",
      "INFO:splink.iterate:Iteration 5 complete\n",
      "INFO:splink.params:The maximum change in parameters was 0.002804890275001526 for key π_gamma_col_2_prob_dist_non_match_level_1_probability\n",
      "INFO:splink.expectation_step:Log likelihood for iteration 6:  -6508.362425884968\n",
      "INFO:splink.iterate:Iteration 6 complete\n",
      "INFO:splink.params:The maximum change in parameters was 0.001971609890460968 for key π_gamma_col_2_prob_dist_non_match_level_1_probability\n",
      "INFO:splink.expectation_step:Log likelihood for iteration 7:  -6507.859308866692\n",
      "INFO:splink.iterate:Iteration 7 complete\n",
      "INFO:splink.params:The maximum change in parameters was 0.0014307163655757904 for key π_gamma_col_2_prob_dist_non_match_level_1_probability\n",
      "INFO:splink.expectation_step:Log likelihood for iteration 8:  -6507.571159188161\n",
      "INFO:splink.iterate:Iteration 8 complete\n",
      "INFO:splink.params:The maximum change in parameters was 0.0010747313499450684 for key π_gamma_col_2_prob_dist_match_level_1_probability\n",
      "INFO:splink.expectation_step:Log likelihood for iteration 9:  -6507.403456795979\n",
      "INFO:splink.iterate:Iteration 9 complete\n",
      "INFO:splink.params:The maximum change in parameters was 0.0008402317762374878 for key π_gamma_col_2_prob_dist_match_level_0_probability\n",
      "INFO:splink.expectation_step:Log likelihood for iteration 10:  -6507.304592185253\n",
      "INFO:splink.iterate:Iteration 10 complete\n",
      "INFO:splink.params:The maximum change in parameters was 0.0006518512964248657 for key π_gamma_col_2_prob_dist_match_level_0_probability\n",
      "INFO:splink.expectation_step:Log likelihood for iteration 11:  -6507.246026815213\n",
      "INFO:splink.iterate:Iteration 11 complete\n",
      "INFO:splink.params:The maximum change in parameters was 0.0005033612251281738 for key π_gamma_col_2_prob_dist_match_level_1_probability\n",
      "INFO:splink.expectation_step:Log likelihood for iteration 12:  -6507.211193283446\n",
      "INFO:splink.iterate:Iteration 12 complete\n",
      "INFO:splink.params:The maximum change in parameters was 0.0003876686096191406 for key π_gamma_col_2_prob_dist_match_level_0_probability\n",
      "INFO:splink.expectation_step:Log likelihood for iteration 13:  -6507.190090935174\n",
      "INFO:splink.iterate:Iteration 13 complete\n",
      "INFO:splink.params:The maximum change in parameters was 0.0002982020378112793 for key π_gamma_col_2_prob_dist_match_level_1_probability\n",
      "INFO:splink.expectation_step:Log likelihood for iteration 14:  -6507.177098187842\n",
      "INFO:splink.iterate:Iteration 14 complete\n",
      "INFO:splink.params:The maximum change in parameters was 0.00022929906845092773 for key π_gamma_col_2_prob_dist_match_level_1_probability\n",
      "INFO:splink.expectation_step:Log likelihood for iteration 15:  -6507.169784791897\n",
      "INFO:splink.iterate:Iteration 15 complete\n",
      "INFO:splink.params:The maximum change in parameters was 0.00017637014389038086 for key π_gamma_col_2_prob_dist_match_level_1_probability\n",
      "INFO:splink.expectation_step:Log likelihood for iteration 16:  -6507.164992556077\n",
      "INFO:splink.iterate:Iteration 16 complete\n",
      "INFO:splink.params:The maximum change in parameters was 0.00013574957847595215 for key π_gamma_col_2_prob_dist_match_level_0_probability\n",
      "INFO:splink.expectation_step:Log likelihood for iteration 17:  -6507.16214566604\n",
      "INFO:splink.iterate:Iteration 17 complete\n",
      "INFO:splink.params:The maximum change in parameters was 0.00010609626770019531 for key π_gamma_col_2_prob_dist_non_match_level_0_probability\n",
      "INFO:splink.expectation_step:Log likelihood for iteration 18:  -6507.160243320551\n",
      "INFO:splink.iterate:Iteration 18 complete\n",
      "INFO:splink.params:The maximum change in parameters was 8.338689804077148e-05 for key π_gamma_col_2_prob_dist_non_match_level_0_probability\n",
      "INFO:splink.iterate:EM algorithm has converged\n",
      "INFO:splink.expectation_step:Log likelihood for iteration 19:  -6507.159182916069\n"
     ]
    },
    {
     "data": {
      "text/plain": [
       "λ (proportion of matches) = 0.4996649920940399\n",
       "------------------------------------\n",
       "gamma_col_1: Comparison of col_1\n",
       "\n",
       "Probability distribution of gamma values amongst matches:\n",
       "    value 0: 0.299742 (level represents lowest category of string similarity)\n",
       "    value 1: 0.700258 (level represents highest category of string similarity)\n",
       "\n",
       "Probability distribution of gamma values amongst non-matches:\n",
       "    value 0: 0.899855 (level represents lowest category of string similarity)\n",
       "    value 1: 0.100144 (level represents highest category of string similarity)\n",
       "------------------------------------\n",
       "gamma_col_2: Comparison of col_2\n",
       "\n",
       "Probability distribution of gamma values amongst matches:\n",
       "    value 0: 0.099721 (level represents lowest category of string similarity)\n",
       "    value 1: 0.900279 (level represents highest category of string similarity)\n",
       "\n",
       "Probability distribution of gamma values amongst non-matches:\n",
       "    value 0: 0.974693 (level represents lowest category of string similarity)\n",
       "    value 1: 0.025307 (level represents highest category of string similarity)\n",
       "------------------------------------\n",
       "gamma_col_3: Comparison of col_3\n",
       "\n",
       "Probability distribution of gamma values amongst matches:\n",
       "    value 0: 0.049744 (level represents lowest category of string similarity)\n",
       "    value 1: 0.950256 (level represents highest category of string similarity)\n",
       "\n",
       "Probability distribution of gamma values amongst non-matches:\n",
       "    value 0: 0.799753 (level represents lowest category of string similarity)\n",
       "    value 1: 0.200247 (level represents highest category of string similarity)"
      ]
     },
     "execution_count": 9,
     "metadata": {},
     "output_type": "execute_result"
    }
   ],
   "source": [
    "from copy import deepcopy\n",
    "settings_3 = {\n",
    "    \"link_type\": \"dedupe_only\",\n",
    "    \"comparison_columns\": [\n",
    "        {\n",
    "            \"col_name\": \"col_1\"\n",
    "        },\n",
    "        {\n",
    "            \"col_name\": \"col_2\"\n",
    "        },\n",
    "        {\n",
    "            \"col_name\": \"col_3\" \n",
    "        },\n",
    "    ],\n",
    "    \"max_iterations\": 200,\n",
    "    \"em_convergence\": 0.0001,\n",
    "     \"additional_columns_to_retain\": [\n",
    "        \"true_match\", \"true_match_probability\"\n",
    "    ]\n",
    "}\n",
    "\n",
    "settings_copy = deepcopy(settings_3)\n",
    "df_e, linker = estimate(df, settings_3, spark)\n",
    "linker.params"
   ]
  },
  {
   "cell_type": "code",
   "execution_count": 10,
   "metadata": {},
   "outputs": [
    {
     "data": {
      "text/plain": [
       "-6507.159182916064"
      ]
     },
     "execution_count": 10,
     "metadata": {},
     "output_type": "execute_result"
    }
   ],
   "source": [
    "from splink.expectation_step import _calculate_log_likelihood_df\n",
    "df_3 = _calculate_log_likelihood_df(df_e, linker.params, spark).toPandas()\n",
    "df_3[\"log_likelihood\"].sum()\n"
   ]
  },
  {
   "cell_type": "markdown",
   "metadata": {},
   "source": [
    "We see that the EM algorithm has converged to the correct answer"
   ]
  }
 ],
 "metadata": {
  "kernelspec": {
   "display_name": "Python 3",
   "language": "python",
   "name": "python3"
  },
  "language_info": {
   "codemirror_mode": {
    "name": "ipython",
    "version": 3
   },
   "file_extension": ".py",
   "mimetype": "text/x-python",
   "name": "python",
   "nbconvert_exporter": "python",
   "pygments_lexer": "ipython3",
   "version": "3.8.3"
  }
 },
 "nbformat": 4,
 "nbformat_minor": 4
}
