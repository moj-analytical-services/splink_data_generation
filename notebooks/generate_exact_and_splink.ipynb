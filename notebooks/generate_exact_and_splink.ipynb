{
 "cells": [
  {
   "cell_type": "code",
   "execution_count": 1,
   "metadata": {},
   "outputs": [],
   "source": [
    "from splink_data_generation.generate_data_exact import generate_df_gammas_exact\n",
    "from splink_data_generation.generate_data_random import generate_df_gammas_random\n",
    "from splink_data_generation.match_prob import add_match_prob"
   ]
  },
  {
   "cell_type": "code",
   "execution_count": 21,
   "metadata": {},
   "outputs": [],
   "source": [
    "settings_2 = {\n",
    "    \"proportion_of_matches\": 0.2,\n",
    "    \"link_type\": \"dedupe_only\",\n",
    "    \"comparison_columns\": [\n",
    "        {\n",
    "            \"col_name\": \"col_1\",\n",
    "            \"m_probabilities\": [0.3, 0.7],  # Probability of typo\n",
    "            \"u_probabilities\": [0.9, 0.1],  # Probability of collision\n",
    "        },\n",
    "        {\n",
    "            \"col_name\": \"col_2\",\n",
    "            \"m_probabilities\": [0.1, 0.9],  # Probability of typo\n",
    "            \"u_probabilities\": [0.975, 0.025],  # Probability of collision\n",
    "        },\n",
    "        {\n",
    "            \"col_name\": \"col_3\",\n",
    "            \"m_probabilities\": [0.05, 0.95],  # Probability of typo\n",
    "            \"u_probabilities\": [0.8, 0.2],  # Probability of collision\n",
    "        },\n",
    "    ],\n",
    "    \"max_iterations\": 200,\n",
    "    \"em_convergence\": 0.0001,\n",
    "     \"additional_columns_to_retain\": [\n",
    "        \"true_match\", \"true_match_probability\"\n",
    "    ]\n",
    "}"
   ]
  },
  {
   "cell_type": "code",
   "execution_count": 22,
   "metadata": {},
   "outputs": [
    {
     "name": "stderr",
     "output_type": "stream",
     "text": [
      "/Users/robinlinacre/anaconda3/lib/python3.8/site-packages/splink_data_generation/generate_data_exact.py:122: UserWarning: Note that the proportion_of_matches setting is ignored by this generator. Only the m_probabilities and u_probabilities are observed. The proportion of matches in the generated dataset was 0.500\n",
      "  warnings.warn(\n"
     ]
    },
    {
     "name": "stdout",
     "output_type": "stream",
     "text": [
      "{'proportion_of_matches': 0.5, 'link_type': 'dedupe_only', 'comparison_columns': [{'col_name': 'col_1', 'm_probabilities': [0.3, 0.7], 'u_probabilities': [0.9, 0.1]}, {'col_name': 'col_2', 'm_probabilities': [0.1, 0.9], 'u_probabilities': [0.975, 0.025]}, {'col_name': 'col_3', 'm_probabilities': [0.05, 0.95], 'u_probabilities': [0.8, 0.2]}], 'max_iterations': 200, 'em_convergence': 0.0001, 'additional_columns_to_retain': ['true_match', 'true_match_probability']}\n"
     ]
    }
   ],
   "source": [
    "df = generate_df_gammas_exact(settings_2)\n",
    "df = add_match_prob(df, settings_2)"
   ]
  },
  {
   "cell_type": "code",
   "execution_count": 23,
   "metadata": {},
   "outputs": [
    {
     "data": {
      "text/html": [
       "<div>\n",
       "<style scoped>\n",
       "    .dataframe tbody tr th:only-of-type {\n",
       "        vertical-align: middle;\n",
       "    }\n",
       "\n",
       "    .dataframe tbody tr th {\n",
       "        vertical-align: top;\n",
       "    }\n",
       "\n",
       "    .dataframe thead th {\n",
       "        text-align: right;\n",
       "    }\n",
       "</style>\n",
       "<table border=\"1\" class=\"dataframe\">\n",
       "  <thead>\n",
       "    <tr style=\"text-align: right;\">\n",
       "      <th></th>\n",
       "      <th>gamma_col_1</th>\n",
       "      <th>gamma_col_2</th>\n",
       "      <th>gamma_col_3</th>\n",
       "      <th>true_match_l</th>\n",
       "      <th>true_match_r</th>\n",
       "      <th>unique_id_l</th>\n",
       "      <th>unique_id_r</th>\n",
       "      <th>numerator</th>\n",
       "      <th>true_match_probability_l</th>\n",
       "      <th>true_match_probability_r</th>\n",
       "    </tr>\n",
       "  </thead>\n",
       "  <tbody>\n",
       "    <tr>\n",
       "      <th>0</th>\n",
       "      <td>0</td>\n",
       "      <td>0</td>\n",
       "      <td>0</td>\n",
       "      <td>1</td>\n",
       "      <td>1</td>\n",
       "      <td>5c534588</td>\n",
       "      <td>68027012</td>\n",
       "      <td>0.00075</td>\n",
       "      <td>0.002132</td>\n",
       "      <td>0.002132</td>\n",
       "    </tr>\n",
       "    <tr>\n",
       "      <th>1</th>\n",
       "      <td>0</td>\n",
       "      <td>1</td>\n",
       "      <td>0</td>\n",
       "      <td>1</td>\n",
       "      <td>1</td>\n",
       "      <td>05c70eed</td>\n",
       "      <td>ce8dbfc9</td>\n",
       "      <td>0.00675</td>\n",
       "      <td>0.428571</td>\n",
       "      <td>0.428571</td>\n",
       "    </tr>\n",
       "    <tr>\n",
       "      <th>2</th>\n",
       "      <td>0</td>\n",
       "      <td>1</td>\n",
       "      <td>0</td>\n",
       "      <td>1</td>\n",
       "      <td>1</td>\n",
       "      <td>00b4166a</td>\n",
       "      <td>ab2fd237</td>\n",
       "      <td>0.00675</td>\n",
       "      <td>0.428571</td>\n",
       "      <td>0.428571</td>\n",
       "    </tr>\n",
       "    <tr>\n",
       "      <th>3</th>\n",
       "      <td>0</td>\n",
       "      <td>1</td>\n",
       "      <td>0</td>\n",
       "      <td>1</td>\n",
       "      <td>1</td>\n",
       "      <td>0e0fd78e</td>\n",
       "      <td>698befa4</td>\n",
       "      <td>0.00675</td>\n",
       "      <td>0.428571</td>\n",
       "      <td>0.428571</td>\n",
       "    </tr>\n",
       "    <tr>\n",
       "      <th>4</th>\n",
       "      <td>0</td>\n",
       "      <td>1</td>\n",
       "      <td>0</td>\n",
       "      <td>1</td>\n",
       "      <td>1</td>\n",
       "      <td>3fcd1ede</td>\n",
       "      <td>670b1263</td>\n",
       "      <td>0.00675</td>\n",
       "      <td>0.428571</td>\n",
       "      <td>0.428571</td>\n",
       "    </tr>\n",
       "  </tbody>\n",
       "</table>\n",
       "</div>"
      ],
      "text/plain": [
       "   gamma_col_1  gamma_col_2  gamma_col_3  true_match_l  true_match_r  \\\n",
       "0            0            0            0             1             1   \n",
       "1            0            1            0             1             1   \n",
       "2            0            1            0             1             1   \n",
       "3            0            1            0             1             1   \n",
       "4            0            1            0             1             1   \n",
       "\n",
       "  unique_id_l unique_id_r  numerator  true_match_probability_l  \\\n",
       "0    5c534588    68027012    0.00075                  0.002132   \n",
       "1    05c70eed    ce8dbfc9    0.00675                  0.428571   \n",
       "2    00b4166a    ab2fd237    0.00675                  0.428571   \n",
       "3    0e0fd78e    698befa4    0.00675                  0.428571   \n",
       "4    3fcd1ede    670b1263    0.00675                  0.428571   \n",
       "\n",
       "   true_match_probability_r  \n",
       "0                  0.002132  \n",
       "1                  0.428571  \n",
       "2                  0.428571  \n",
       "3                  0.428571  \n",
       "4                  0.428571  "
      ]
     },
     "execution_count": 23,
     "metadata": {},
     "output_type": "execute_result"
    }
   ],
   "source": [
    "df.head()"
   ]
  },
  {
   "cell_type": "code",
   "execution_count": 24,
   "metadata": {},
   "outputs": [],
   "source": [
    "# f1 = df[\"gamma_col_1\"] == 0\n",
    "# f2 = df[\"gamma_col_2\"] == 0\n",
    "# f3 = df[\"gamma_col_3\"] == 0\n",
    "# df[f1&f2&f3]"
   ]
  },
  {
   "cell_type": "code",
   "execution_count": 25,
   "metadata": {},
   "outputs": [],
   "source": [
    "import logging \n",
    "logging.basicConfig()  # Means logs will print in Jupyter Lab\n",
    "\n",
    "# Set to DEBUG if you want splink to log the SQL statements it's executing under the hood\n",
    "logging.getLogger(\"splink\").setLevel(logging.INFO)\n",
    "\n",
    "from pyspark.context import SparkContext\n",
    "from pyspark.sql import SparkSession\n",
    "sc = SparkContext.getOrCreate()\n",
    "spark = SparkSession(sc)"
   ]
  },
  {
   "cell_type": "code",
   "execution_count": 26,
   "metadata": {},
   "outputs": [
    {
     "name": "stderr",
     "output_type": "stream",
     "text": [
      "/Users/robinlinacre/anaconda3/lib/python3.8/site-packages/splink/case_statements.py:17: UserWarning: The jaro_winkler_sim user definined function is not available in Spark Or you did not pass 'spark' (the SparkSession) into 'Params' Falling back to using levenshtein in the default string comparison functions You can import these functions using the scala-udf-similarity-0.0.6.jar provided with Splink\n",
      "  warnings.warn(f\"The jaro_winkler_sim user definined function is not available in Spark \"\n",
      "INFO:splink.iterate:Iteration 0 complete\n",
      "INFO:splink.params:The maximum change in parameters was 2.384185793236071e-08 for key π_gamma_col_1_prob_dist_non_match_level_0_probability\n",
      "INFO:splink.iterate:EM algorithm has converged\n"
     ]
    }
   ],
   "source": [
    "# Now use Splink to estimate the params from the data\n",
    "from splink_data_generation.estimate_splink import estimate\n",
    "\n",
    "settings_2[\"proportion_of_matches\"] = df[\"true_match_l\"].mean()\n",
    "df_e, linker = estimate(df, settings_2 ,spark)"
   ]
  },
  {
   "cell_type": "code",
   "execution_count": 27,
   "metadata": {},
   "outputs": [
    {
     "data": {
      "text/html": [
       "<div>\n",
       "<style scoped>\n",
       "    .dataframe tbody tr th:only-of-type {\n",
       "        vertical-align: middle;\n",
       "    }\n",
       "\n",
       "    .dataframe tbody tr th {\n",
       "        vertical-align: top;\n",
       "    }\n",
       "\n",
       "    .dataframe thead th {\n",
       "        text-align: right;\n",
       "    }\n",
       "</style>\n",
       "<table border=\"1\" class=\"dataframe\">\n",
       "  <thead>\n",
       "    <tr style=\"text-align: right;\">\n",
       "      <th></th>\n",
       "      <th>match_probability</th>\n",
       "      <th>unique_id_l</th>\n",
       "      <th>unique_id_r</th>\n",
       "      <th>gamma_col_1</th>\n",
       "      <th>gamma_col_2</th>\n",
       "      <th>gamma_col_3</th>\n",
       "      <th>true_match_l</th>\n",
       "      <th>true_match_r</th>\n",
       "      <th>true_match_probability_l</th>\n",
       "      <th>true_match_probability_r</th>\n",
       "    </tr>\n",
       "  </thead>\n",
       "  <tbody>\n",
       "    <tr>\n",
       "      <th>0</th>\n",
       "      <td>0.002132</td>\n",
       "      <td>5c534588</td>\n",
       "      <td>68027012</td>\n",
       "      <td>0</td>\n",
       "      <td>0</td>\n",
       "      <td>0</td>\n",
       "      <td>1</td>\n",
       "      <td>1</td>\n",
       "      <td>0.002132</td>\n",
       "      <td>0.002132</td>\n",
       "    </tr>\n",
       "    <tr>\n",
       "      <th>1</th>\n",
       "      <td>0.428571</td>\n",
       "      <td>05c70eed</td>\n",
       "      <td>ce8dbfc9</td>\n",
       "      <td>0</td>\n",
       "      <td>1</td>\n",
       "      <td>0</td>\n",
       "      <td>1</td>\n",
       "      <td>1</td>\n",
       "      <td>0.428571</td>\n",
       "      <td>0.428571</td>\n",
       "    </tr>\n",
       "    <tr>\n",
       "      <th>2</th>\n",
       "      <td>0.428571</td>\n",
       "      <td>00b4166a</td>\n",
       "      <td>ab2fd237</td>\n",
       "      <td>0</td>\n",
       "      <td>1</td>\n",
       "      <td>0</td>\n",
       "      <td>1</td>\n",
       "      <td>1</td>\n",
       "      <td>0.428571</td>\n",
       "      <td>0.428571</td>\n",
       "    </tr>\n",
       "    <tr>\n",
       "      <th>3</th>\n",
       "      <td>0.428571</td>\n",
       "      <td>0e0fd78e</td>\n",
       "      <td>698befa4</td>\n",
       "      <td>0</td>\n",
       "      <td>1</td>\n",
       "      <td>0</td>\n",
       "      <td>1</td>\n",
       "      <td>1</td>\n",
       "      <td>0.428571</td>\n",
       "      <td>0.428571</td>\n",
       "    </tr>\n",
       "    <tr>\n",
       "      <th>4</th>\n",
       "      <td>0.428571</td>\n",
       "      <td>3fcd1ede</td>\n",
       "      <td>670b1263</td>\n",
       "      <td>0</td>\n",
       "      <td>1</td>\n",
       "      <td>0</td>\n",
       "      <td>1</td>\n",
       "      <td>1</td>\n",
       "      <td>0.428571</td>\n",
       "      <td>0.428571</td>\n",
       "    </tr>\n",
       "  </tbody>\n",
       "</table>\n",
       "</div>"
      ],
      "text/plain": [
       "   match_probability unique_id_l unique_id_r  gamma_col_1  gamma_col_2  \\\n",
       "0           0.002132    5c534588    68027012            0            0   \n",
       "1           0.428571    05c70eed    ce8dbfc9            0            1   \n",
       "2           0.428571    00b4166a    ab2fd237            0            1   \n",
       "3           0.428571    0e0fd78e    698befa4            0            1   \n",
       "4           0.428571    3fcd1ede    670b1263            0            1   \n",
       "\n",
       "   gamma_col_3  true_match_l  true_match_r  true_match_probability_l  \\\n",
       "0            0             1             1                  0.002132   \n",
       "1            0             1             1                  0.428571   \n",
       "2            0             1             1                  0.428571   \n",
       "3            0             1             1                  0.428571   \n",
       "4            0             1             1                  0.428571   \n",
       "\n",
       "   true_match_probability_r  \n",
       "0                  0.002132  \n",
       "1                  0.428571  \n",
       "2                  0.428571  \n",
       "3                  0.428571  \n",
       "4                  0.428571  "
      ]
     },
     "execution_count": 27,
     "metadata": {},
     "output_type": "execute_result"
    }
   ],
   "source": [
    "df_e.limit(5).toPandas()"
   ]
  },
  {
   "cell_type": "code",
   "execution_count": 28,
   "metadata": {},
   "outputs": [
    {
     "name": "stderr",
     "output_type": "stream",
     "text": [
      "<ipython-input-28-3faf3e874814>:4: SettingWithCopyWarning: \n",
      "A value is trying to be set on a copy of a slice from a DataFrame.\n",
      "Try using .loc[row_indexer,col_indexer] = value instead\n",
      "\n",
      "See the caveats in the documentation: https://pandas.pydata.org/pandas-docs/stable/user_guide/indexing.html#returning-a-view-versus-a-copy\n",
      "  df_labels[\"true_match_r\"] = df_labels[\"true_match_r\"].astype(float)\n"
     ]
    },
    {
     "data": {
      "text/html": [
       "<div>\n",
       "<style scoped>\n",
       "    .dataframe tbody tr th:only-of-type {\n",
       "        vertical-align: middle;\n",
       "    }\n",
       "\n",
       "    .dataframe tbody tr th {\n",
       "        vertical-align: top;\n",
       "    }\n",
       "\n",
       "    .dataframe thead th {\n",
       "        text-align: right;\n",
       "    }\n",
       "</style>\n",
       "<table border=\"1\" class=\"dataframe\">\n",
       "  <thead>\n",
       "    <tr style=\"text-align: right;\">\n",
       "      <th></th>\n",
       "      <th>clerical_match_score</th>\n",
       "      <th>unique_id_l</th>\n",
       "      <th>unique_id_r</th>\n",
       "    </tr>\n",
       "  </thead>\n",
       "  <tbody>\n",
       "    <tr>\n",
       "      <th>0</th>\n",
       "      <td>1.0</td>\n",
       "      <td>5c534588</td>\n",
       "      <td>68027012</td>\n",
       "    </tr>\n",
       "    <tr>\n",
       "      <th>1</th>\n",
       "      <td>1.0</td>\n",
       "      <td>05c70eed</td>\n",
       "      <td>ce8dbfc9</td>\n",
       "    </tr>\n",
       "    <tr>\n",
       "      <th>2</th>\n",
       "      <td>1.0</td>\n",
       "      <td>00b4166a</td>\n",
       "      <td>ab2fd237</td>\n",
       "    </tr>\n",
       "    <tr>\n",
       "      <th>3</th>\n",
       "      <td>1.0</td>\n",
       "      <td>0e0fd78e</td>\n",
       "      <td>698befa4</td>\n",
       "    </tr>\n",
       "    <tr>\n",
       "      <th>4</th>\n",
       "      <td>1.0</td>\n",
       "      <td>3fcd1ede</td>\n",
       "      <td>670b1263</td>\n",
       "    </tr>\n",
       "  </tbody>\n",
       "</table>\n",
       "</div>"
      ],
      "text/plain": [
       "   clerical_match_score unique_id_l unique_id_r\n",
       "0                   1.0    5c534588    68027012\n",
       "1                   1.0    05c70eed    ce8dbfc9\n",
       "2                   1.0    00b4166a    ab2fd237\n",
       "3                   1.0    0e0fd78e    698befa4\n",
       "4                   1.0    3fcd1ede    670b1263"
      ]
     },
     "execution_count": 28,
     "metadata": {},
     "output_type": "execute_result"
    }
   ],
   "source": [
    "from splink.truth import roc_chart\n",
    "\n",
    "df_labels = df[[\"true_match_r\", \"unique_id_l\", \"unique_id_r\"]]\n",
    "df_labels[\"true_match_r\"] = df_labels[\"true_match_r\"].astype(float)\n",
    "df_labels = df_labels.rename(columns={\"true_match_r\": \"clerical_match_score\"})\n",
    "df_labels.head()\n",
    "\n"
   ]
  },
  {
   "cell_type": "code",
   "execution_count": 29,
   "metadata": {},
   "outputs": [
    {
     "name": "stderr",
     "output_type": "stream",
     "text": [
      "/Users/robinlinacre/anaconda3/lib/python3.8/site-packages/pandas/core/frame.py:1485: FutureWarning: Using short name for 'orient' is deprecated. Only the options: ('dict', list, 'series', 'split', 'records', 'index') will be used in a future version. Use one of the above to silence this warning.\n",
      "  warnings.warn(\n"
     ]
    },
    {
     "data": {
      "text/html": [
       "\n",
       "<div id=\"altair-viz-c5524ededa834011935ad4611ab62a89\"></div>\n",
       "<script type=\"text/javascript\">\n",
       "  (function(spec, embedOpt){\n",
       "    let outputDiv = document.currentScript.previousElementSibling;\n",
       "    if (outputDiv.id !== \"altair-viz-c5524ededa834011935ad4611ab62a89\") {\n",
       "      outputDiv = document.getElementById(\"altair-viz-c5524ededa834011935ad4611ab62a89\");\n",
       "    }\n",
       "    const paths = {\n",
       "      \"vega\": \"https://cdn.jsdelivr.net/npm//vega@5?noext\",\n",
       "      \"vega-lib\": \"https://cdn.jsdelivr.net/npm//vega-lib?noext\",\n",
       "      \"vega-lite\": \"https://cdn.jsdelivr.net/npm//vega-lite@4.8.1?noext\",\n",
       "      \"vega-embed\": \"https://cdn.jsdelivr.net/npm//vega-embed@6?noext\",\n",
       "    };\n",
       "\n",
       "    function loadScript(lib) {\n",
       "      return new Promise(function(resolve, reject) {\n",
       "        var s = document.createElement('script');\n",
       "        s.src = paths[lib];\n",
       "        s.async = true;\n",
       "        s.onload = () => resolve(paths[lib]);\n",
       "        s.onerror = () => reject(`Error loading script: ${paths[lib]}`);\n",
       "        document.getElementsByTagName(\"head\")[0].appendChild(s);\n",
       "      });\n",
       "    }\n",
       "\n",
       "    function showError(err) {\n",
       "      outputDiv.innerHTML = `<div class=\"error\" style=\"color:red;\">${err}</div>`;\n",
       "      throw err;\n",
       "    }\n",
       "\n",
       "    function displayChart(vegaEmbed) {\n",
       "      vegaEmbed(outputDiv, spec, embedOpt)\n",
       "        .catch(err => showError(`Javascript Error: ${err.message}<br>This usually means there's a typo in your chart specification. See the javascript console for the full traceback.`));\n",
       "    }\n",
       "\n",
       "    if(typeof define === \"function\" && define.amd) {\n",
       "      requirejs.config({paths});\n",
       "      require([\"vega-embed\"], displayChart, err => showError(`Error loading script: ${err.message}`));\n",
       "    } else if (typeof vegaEmbed === \"function\") {\n",
       "      displayChart(vegaEmbed);\n",
       "    } else {\n",
       "      loadScript(\"vega\")\n",
       "        .then(() => loadScript(\"vega-lite\"))\n",
       "        .then(() => loadScript(\"vega-embed\"))\n",
       "        .catch(showError)\n",
       "        .then(() => displayChart(vegaEmbed));\n",
       "    }\n",
       "  })({\"config\": {\"view\": {\"continuousWidth\": 400, \"continuousHeight\": 300}}, \"data\": {\"values\": [{\"truth_threshold\": 0.0021321962121874094, \"row_count\": 4000, \"P\": 2000, \"N\": 2000, \"TP\": 2000, \"TN\": 0, \"FP\": 2000, \"FN\": 0, \"P_rate\": 0.5, \"N_rate\": 0.5, \"TP_rate\": 1.0, \"TN_rate\": 0.0, \"FP_rate\": 1.0, \"FN_rate\": 0.0, \"precision\": 0.5, \"recall\": 1.0}, {\"truth_threshold\": 0.042944785207509995, \"row_count\": 4000, \"P\": 2000, \"N\": 2000, \"TP\": 1997, \"TN\": 1404, \"FP\": 596, \"FN\": 3, \"P_rate\": 0.5, \"N_rate\": 0.5, \"TP_rate\": 0.9985, \"TN_rate\": 0.702, \"FP_rate\": 0.298, \"FN_rate\": 0.0015, \"precision\": 0.7701504049363671, \"recall\": 0.9985}, {\"truth_threshold\": 0.13970588147640228, \"row_count\": 4000, \"P\": 2000, \"N\": 2000, \"TP\": 1990, \"TN\": 1560, \"FP\": 440, \"FN\": 10, \"P_rate\": 0.5, \"N_rate\": 0.5, \"TP_rate\": 0.995, \"TN_rate\": 0.78, \"FP_rate\": 0.22, \"FN_rate\": 0.005, \"precision\": 0.8189300411522634, \"recall\": 0.995}, {\"truth_threshold\": 0.4285714328289032, \"row_count\": 4000, \"P\": 2000, \"N\": 2000, \"TP\": 1933, \"TN\": 1911, \"FP\": 89, \"FN\": 67, \"P_rate\": 0.5, \"N_rate\": 0.5, \"TP_rate\": 0.9665, \"TN_rate\": 0.9555, \"FP_rate\": 0.0445, \"FN_rate\": 0.0335, \"precision\": 0.9559841740850643, \"recall\": 0.9665}, {\"truth_threshold\": 0.7732558250427246, \"row_count\": 4000, \"P\": 2000, \"N\": 2000, \"TP\": 1906, \"TN\": 1947, \"FP\": 53, \"FN\": 94, \"P_rate\": 0.5, \"N_rate\": 0.5, \"TP_rate\": 0.953, \"TN_rate\": 0.9735, \"FP_rate\": 0.0265, \"FN_rate\": 0.047, \"precision\": 0.9729453802960695, \"recall\": 0.953}, {\"truth_threshold\": 0.9402984976768494, \"row_count\": 4000, \"P\": 2000, \"N\": 2000, \"TP\": 1773, \"TN\": 1986, \"FP\": 14, \"FN\": 227, \"P_rate\": 0.5, \"N_rate\": 0.5, \"TP_rate\": 0.8865, \"TN_rate\": 0.993, \"FP_rate\": 0.007, \"FN_rate\": 0.1135, \"precision\": 0.9921656407386682, \"recall\": 0.8865}, {\"truth_threshold\": 0.982758641242981, \"row_count\": 4000, \"P\": 2000, \"N\": 2000, \"TP\": 1710, \"TN\": 1990, \"FP\": 10, \"FN\": 290, \"P_rate\": 0.5, \"N_rate\": 0.5, \"TP_rate\": 0.855, \"TN_rate\": 0.995, \"FP_rate\": 0.005, \"FN_rate\": 0.145, \"precision\": 0.9941860465116279, \"recall\": 0.855}, {\"truth_threshold\": 0.9991652965545654, \"row_count\": 4000, \"P\": 2000, \"N\": 2000, \"TP\": 1197, \"TN\": 1999, \"FP\": 1, \"FN\": 803, \"P_rate\": 0.5, \"N_rate\": 0.5, \"TP_rate\": 0.5985, \"TN_rate\": 0.9995, \"FP_rate\": 0.0005, \"FN_rate\": 0.4015, \"precision\": 0.9991652754590985, \"recall\": 0.5985}, {\"truth_threshold\": 1.0099999904632568, \"row_count\": 4000, \"P\": 2000, \"N\": 2000, \"TP\": 0, \"TN\": 2000, \"FP\": 0, \"FN\": 2000, \"P_rate\": 0.5, \"N_rate\": 0.5, \"TP_rate\": 0.0, \"TN_rate\": 1.0, \"FP_rate\": 0.0, \"FN_rate\": 1.0, \"precision\": NaN, \"recall\": 0.0}], \"name\": \"data-fadd0e93e9546856cbc745a99e65285d\"}, \"mark\": {\"type\": \"line\", \"clip\": true, \"point\": true}, \"encoding\": {\"tooltip\": [{\"type\": \"quantitative\", \"field\": \"truth_threshold\"}, {\"type\": \"quantitative\", \"field\": \"FP_rate\"}, {\"type\": \"quantitative\", \"field\": \"TP_rate\"}, {\"type\": \"quantitative\", \"field\": \"TP\"}, {\"type\": \"quantitative\", \"field\": \"TN\"}, {\"type\": \"quantitative\", \"field\": \"FP\"}, {\"type\": \"quantitative\", \"field\": \"FN\"}, {\"type\": \"quantitative\", \"field\": \"precision\"}, {\"type\": \"quantitative\", \"field\": \"recall\"}], \"x\": {\"type\": \"quantitative\", \"field\": \"FP_rate\", \"scale\": {\"domain\": [0, 0.44699999999999995]}, \"sort\": [\"truth_threshold\"], \"title\": \"False Positive Rate amongst clerically reviewed records\"}, \"y\": {\"type\": \"quantitative\", \"field\": \"TP_rate\", \"sort\": [\"truth_threshold\"], \"title\": \"True Positive Rate amongst clerically reviewed records\"}}, \"height\": 400, \"title\": \"Receiver operating characteristic curve\", \"width\": 400, \"$schema\": \"https://vega.github.io/schema/vega-lite/v4.8.1.json\"}, {\"mode\": \"vega-lite\"});\n",
       "</script>"
      ],
      "text/plain": [
       "alt.Chart(...)"
      ]
     },
     "execution_count": 29,
     "metadata": {},
     "output_type": "execute_result"
    }
   ],
   "source": [
    "df_labels_sp = spark.createDataFrame(df_labels)\n",
    "roc_chart(df_labels_sp, df_e, settings_2, spark)"
   ]
  },
  {
   "cell_type": "code",
   "execution_count": 30,
   "metadata": {},
   "outputs": [
    {
     "data": {
      "text/html": [
       "<div>\n",
       "<style scoped>\n",
       "    .dataframe tbody tr th:only-of-type {\n",
       "        vertical-align: middle;\n",
       "    }\n",
       "\n",
       "    .dataframe tbody tr th {\n",
       "        vertical-align: top;\n",
       "    }\n",
       "\n",
       "    .dataframe thead th {\n",
       "        text-align: right;\n",
       "    }\n",
       "</style>\n",
       "<table border=\"1\" class=\"dataframe\">\n",
       "  <thead>\n",
       "    <tr style=\"text-align: right;\">\n",
       "      <th></th>\n",
       "      <th>gamma_col_1</th>\n",
       "      <th>gamma_col_2</th>\n",
       "      <th>gamma_col_3</th>\n",
       "      <th>true_match_l</th>\n",
       "      <th>true_match_r</th>\n",
       "      <th>unique_id_l</th>\n",
       "      <th>unique_id_r</th>\n",
       "      <th>numerator</th>\n",
       "      <th>true_match_probability_l</th>\n",
       "      <th>true_match_probability_r</th>\n",
       "    </tr>\n",
       "  </thead>\n",
       "  <tbody>\n",
       "    <tr>\n",
       "      <th>30</th>\n",
       "      <td>1</td>\n",
       "      <td>0</td>\n",
       "      <td>0</td>\n",
       "      <td>1</td>\n",
       "      <td>1</td>\n",
       "      <td>daa57c09</td>\n",
       "      <td>643fdf2c</td>\n",
       "      <td>0.00175</td>\n",
       "      <td>0.042945</td>\n",
       "      <td>0.042945</td>\n",
       "    </tr>\n",
       "    <tr>\n",
       "      <th>31</th>\n",
       "      <td>1</td>\n",
       "      <td>1</td>\n",
       "      <td>0</td>\n",
       "      <td>1</td>\n",
       "      <td>1</td>\n",
       "      <td>4f183f22</td>\n",
       "      <td>7bb5617c</td>\n",
       "      <td>0.01575</td>\n",
       "      <td>0.940299</td>\n",
       "      <td>0.940299</td>\n",
       "    </tr>\n",
       "    <tr>\n",
       "      <th>32</th>\n",
       "      <td>1</td>\n",
       "      <td>1</td>\n",
       "      <td>0</td>\n",
       "      <td>1</td>\n",
       "      <td>1</td>\n",
       "      <td>0df18ec0</td>\n",
       "      <td>f6ddc796</td>\n",
       "      <td>0.01575</td>\n",
       "      <td>0.940299</td>\n",
       "      <td>0.940299</td>\n",
       "    </tr>\n",
       "    <tr>\n",
       "      <th>33</th>\n",
       "      <td>1</td>\n",
       "      <td>1</td>\n",
       "      <td>0</td>\n",
       "      <td>1</td>\n",
       "      <td>1</td>\n",
       "      <td>ea2b589e</td>\n",
       "      <td>1e9b81bd</td>\n",
       "      <td>0.01575</td>\n",
       "      <td>0.940299</td>\n",
       "      <td>0.940299</td>\n",
       "    </tr>\n",
       "    <tr>\n",
       "      <th>34</th>\n",
       "      <td>1</td>\n",
       "      <td>1</td>\n",
       "      <td>0</td>\n",
       "      <td>1</td>\n",
       "      <td>1</td>\n",
       "      <td>42fa4edd</td>\n",
       "      <td>8950c40b</td>\n",
       "      <td>0.01575</td>\n",
       "      <td>0.940299</td>\n",
       "      <td>0.940299</td>\n",
       "    </tr>\n",
       "  </tbody>\n",
       "</table>\n",
       "</div>"
      ],
      "text/plain": [
       "    gamma_col_1  gamma_col_2  gamma_col_3  true_match_l  true_match_r  \\\n",
       "30            1            0            0             1             1   \n",
       "31            1            1            0             1             1   \n",
       "32            1            1            0             1             1   \n",
       "33            1            1            0             1             1   \n",
       "34            1            1            0             1             1   \n",
       "\n",
       "   unique_id_l unique_id_r  numerator  true_match_probability_l  \\\n",
       "30    daa57c09    643fdf2c    0.00175                  0.042945   \n",
       "31    4f183f22    7bb5617c    0.01575                  0.940299   \n",
       "32    0df18ec0    f6ddc796    0.01575                  0.940299   \n",
       "33    ea2b589e    1e9b81bd    0.01575                  0.940299   \n",
       "34    42fa4edd    8950c40b    0.01575                  0.940299   \n",
       "\n",
       "    true_match_probability_r  \n",
       "30                  0.042945  \n",
       "31                  0.940299  \n",
       "32                  0.940299  \n",
       "33                  0.940299  \n",
       "34                  0.940299  "
      ]
     },
     "execution_count": 30,
     "metadata": {},
     "output_type": "execute_result"
    }
   ],
   "source": [
    "# Now we're in a position to subset df into only rows where col_1 matches and re-estimate\n",
    "\n",
    "f1 = df[\"gamma_col_1\"] == 1\n",
    "df_blocked = df[f1]\n",
    "df_blocked.head()"
   ]
  },
  {
   "cell_type": "code",
   "execution_count": 38,
   "metadata": {},
   "outputs": [
    {
     "data": {
      "text/plain": [
       "{'proportion_of_matches': 0.875,\n",
       " 'link_type': 'dedupe_only',\n",
       " 'comparison_columns': [{'col_name': 'col_2',\n",
       "   'm_probabilities': [0.1, 0.9],\n",
       "   'u_probabilities': [0.975, 0.025]},\n",
       "  {'col_name': 'col_3',\n",
       "   'm_probabilities': [0.05, 0.95],\n",
       "   'u_probabilities': [0.8, 0.2]}],\n",
       " 'max_iterations': 200,\n",
       " 'em_convergence': 0.0001,\n",
       " 'additional_columns_to_retain': ['true_match', 'true_match_probability'],\n",
       " 'retain_intermediate_calculation_columns': False,\n",
       " 'retain_matching_columns': False,\n",
       " 'unique_id_column_name': 'unique_id'}"
      ]
     },
     "execution_count": 38,
     "metadata": {},
     "output_type": "execute_result"
    }
   ],
   "source": [
    "settings_2[\"comparison_columns\"] = [  {\n",
    "            \"col_name\": \"col_2\",\n",
    "            \"m_probabilities\": [0.1, 0.9],  # Probability of typo\n",
    "            \"u_probabilities\": [0.975, 0.025],  # Probability of collision\n",
    "        },\n",
    "        {\n",
    "            \"col_name\": \"col_3\",\n",
    "            \"m_probabilities\": [0.05, 0.95],  # Probability of typo\n",
    "            \"u_probabilities\": [0.8, 0.2],  # Probability of collision\n",
    "        },]\n",
    "settings_2[\"proportion_of_matches\"] = df_blocked[\"true_match_l\"].mean()\n",
    "settings_2"
   ]
  },
  {
   "cell_type": "code",
   "execution_count": 39,
   "metadata": {},
   "outputs": [
    {
     "name": "stderr",
     "output_type": "stream",
     "text": [
      "INFO:splink.iterate:Iteration 0 complete\n",
      "INFO:splink.params:The maximum change in parameters was 2.384185793236071e-08 for key π_gamma_col_2_prob_dist_match_level_1_probability\n",
      "INFO:splink.iterate:EM algorithm has converged\n"
     ]
    }
   ],
   "source": [
    "df_e, linker = estimate(df_blocked, settings_2 ,spark)"
   ]
  },
  {
   "cell_type": "code",
   "execution_count": 40,
   "metadata": {},
   "outputs": [
    {
     "data": {
      "text/plain": [
       "λ (proportion of matches) = 0.875\n",
       "------------------------------------\n",
       "gamma_col_2: Comparison of col_2\n",
       "\n",
       "Probability distribution of gamma values amongst matches:\n",
       "    value 0: 0.100000 (level represents lowest category of string similarity)\n",
       "    value 1: 0.900000 (level represents highest category of string similarity)\n",
       "\n",
       "Probability distribution of gamma values amongst non-matches:\n",
       "    value 0: 0.975000 (level represents lowest category of string similarity)\n",
       "    value 1: 0.025000 (level represents highest category of string similarity)\n",
       "------------------------------------\n",
       "gamma_col_3: Comparison of col_3\n",
       "\n",
       "Probability distribution of gamma values amongst matches:\n",
       "    value 0: 0.050000 (level represents lowest category of string similarity)\n",
       "    value 1: 0.950000 (level represents highest category of string similarity)\n",
       "\n",
       "Probability distribution of gamma values amongst non-matches:\n",
       "    value 0: 0.800000 (level represents lowest category of string similarity)\n",
       "    value 1: 0.200000 (level represents highest category of string similarity)"
      ]
     },
     "execution_count": 40,
     "metadata": {},
     "output_type": "execute_result"
    }
   ],
   "source": [
    "linker.params"
   ]
  },
  {
   "cell_type": "code",
   "execution_count": 41,
   "metadata": {},
   "outputs": [],
   "source": [
    "# Try again without starting params \n",
    "settings_2[\"comparison_columns\"] = [{\n",
    "            \"col_name\": \"col_2\",\n",
    "        \n",
    "        },\n",
    "        {\n",
    "            \"col_name\": \"col_3\",\n",
    "  \n",
    "        }]\n",
    "settings_2[\"proportion_of_matches\"] = 0.8\n"
   ]
  },
  {
   "cell_type": "code",
   "execution_count": 42,
   "metadata": {},
   "outputs": [
    {
     "name": "stderr",
     "output_type": "stream",
     "text": [
      "INFO:splink.iterate:Iteration 0 complete\n",
      "INFO:splink.params:The maximum change in parameters was 0.08415516614913943 for key π_gamma_col_3_prob_dist_non_match_level_0_probability\n",
      "INFO:splink.iterate:Iteration 1 complete\n",
      "INFO:splink.params:The maximum change in parameters was 0.002641439437866211 for key π_gamma_col_3_prob_dist_non_match_level_0_probability\n",
      "INFO:splink.iterate:Iteration 2 complete\n",
      "INFO:splink.params:The maximum change in parameters was 0.0005588233470916748 for key π_gamma_col_3_prob_dist_non_match_level_1_probability\n",
      "INFO:splink.iterate:Iteration 3 complete\n",
      "INFO:splink.params:The maximum change in parameters was 0.00011701881885528564 for key π_gamma_col_3_prob_dist_non_match_level_1_probability\n",
      "INFO:splink.iterate:Iteration 4 complete\n",
      "INFO:splink.params:The maximum change in parameters was 2.4437904357910156e-05 for key π_gamma_col_3_prob_dist_non_match_level_0_probability\n",
      "INFO:splink.iterate:EM algorithm has converged\n"
     ]
    }
   ],
   "source": [
    "df_e, linker = estimate(df_blocked, settings_2 ,spark)"
   ]
  },
  {
   "cell_type": "code",
   "execution_count": 43,
   "metadata": {},
   "outputs": [
    {
     "data": {
      "text/plain": [
       "λ (proportion of matches) = 0.8699336051940918\n",
       "------------------------------------\n",
       "gamma_col_2: Comparison of col_2\n",
       "\n",
       "Probability distribution of gamma values amongst matches:\n",
       "    value 0: 0.103110 (level represents lowest category of string similarity)\n",
       "    value 1: 0.896890 (level represents highest category of string similarity)\n",
       "\n",
       "Probability distribution of gamma values amongst non-matches:\n",
       "    value 0: 0.920114 (level represents lowest category of string similarity)\n",
       "    value 1: 0.079886 (level represents highest category of string similarity)\n",
       "------------------------------------\n",
       "gamma_col_3: Comparison of col_3\n",
       "\n",
       "Probability distribution of gamma values amongst matches:\n",
       "    value 0: 0.042763 (level represents lowest category of string similarity)\n",
       "    value 1: 0.957237 (level represents highest category of string similarity)\n",
       "\n",
       "Probability distribution of gamma values amongst non-matches:\n",
       "    value 0: 0.819187 (level represents lowest category of string similarity)\n",
       "    value 1: 0.180813 (level represents highest category of string similarity)"
      ]
     },
     "execution_count": 43,
     "metadata": {},
     "output_type": "execute_result"
    }
   ],
   "source": [
    "linker.params"
   ]
  },
  {
   "cell_type": "code",
   "execution_count": null,
   "metadata": {},
   "outputs": [],
   "source": []
  },
  {
   "cell_type": "code",
   "execution_count": null,
   "metadata": {},
   "outputs": [],
   "source": []
  },
  {
   "cell_type": "code",
   "execution_count": null,
   "metadata": {},
   "outputs": [],
   "source": [
    "from splink.roc import precision_recall_chart\n",
    "precision_recall_chart(df_labels, df_e, settings, spark)"
   ]
  },
  {
   "cell_type": "code",
   "execution_count": 16,
   "metadata": {},
   "outputs": [
    {
     "data": {
      "text/plain": [
       "0.9824561403508771"
      ]
     },
     "execution_count": 16,
     "metadata": {},
     "output_type": "execute_result"
    }
   ],
   "source": []
  },
  {
   "cell_type": "code",
   "execution_count": 33,
   "metadata": {},
   "outputs": [
    {
     "data": {
      "text/html": [
       "<div>\n",
       "<style scoped>\n",
       "    .dataframe tbody tr th:only-of-type {\n",
       "        vertical-align: middle;\n",
       "    }\n",
       "\n",
       "    .dataframe tbody tr th {\n",
       "        vertical-align: top;\n",
       "    }\n",
       "\n",
       "    .dataframe thead th {\n",
       "        text-align: right;\n",
       "    }\n",
       "</style>\n",
       "<table border=\"1\" class=\"dataframe\">\n",
       "  <thead>\n",
       "    <tr style=\"text-align: right;\">\n",
       "      <th></th>\n",
       "      <th>gamma_col_1</th>\n",
       "      <th>gamma_col_2</th>\n",
       "      <th>gamma_col_3</th>\n",
       "      <th>true_match_l</th>\n",
       "      <th>true_match_r</th>\n",
       "      <th>unique_id_l</th>\n",
       "      <th>unique_id_r</th>\n",
       "      <th>numerator</th>\n",
       "      <th>true_match_probability_l</th>\n",
       "      <th>true_match_probability_r</th>\n",
       "    </tr>\n",
       "  </thead>\n",
       "  <tbody>\n",
       "    <tr>\n",
       "      <th>30</th>\n",
       "      <td>1</td>\n",
       "      <td>0</td>\n",
       "      <td>0</td>\n",
       "      <td>1</td>\n",
       "      <td>1</td>\n",
       "      <td>3939c7b2</td>\n",
       "      <td>522ec328</td>\n",
       "      <td>0.003111</td>\n",
       "      <td>0.304348</td>\n",
       "      <td>0.304348</td>\n",
       "    </tr>\n",
       "    <tr>\n",
       "      <th>31</th>\n",
       "      <td>1</td>\n",
       "      <td>1</td>\n",
       "      <td>0</td>\n",
       "      <td>1</td>\n",
       "      <td>1</td>\n",
       "      <td>b3d4a2bd</td>\n",
       "      <td>6c8ff567</td>\n",
       "      <td>0.028000</td>\n",
       "      <td>0.940299</td>\n",
       "      <td>0.940299</td>\n",
       "    </tr>\n",
       "    <tr>\n",
       "      <th>32</th>\n",
       "      <td>1</td>\n",
       "      <td>1</td>\n",
       "      <td>0</td>\n",
       "      <td>1</td>\n",
       "      <td>1</td>\n",
       "      <td>92e6fbb5</td>\n",
       "      <td>a26eaf26</td>\n",
       "      <td>0.028000</td>\n",
       "      <td>0.940299</td>\n",
       "      <td>0.940299</td>\n",
       "    </tr>\n",
       "    <tr>\n",
       "      <th>33</th>\n",
       "      <td>1</td>\n",
       "      <td>1</td>\n",
       "      <td>0</td>\n",
       "      <td>1</td>\n",
       "      <td>1</td>\n",
       "      <td>1e67bbfb</td>\n",
       "      <td>b5a6e147</td>\n",
       "      <td>0.028000</td>\n",
       "      <td>0.940299</td>\n",
       "      <td>0.940299</td>\n",
       "    </tr>\n",
       "    <tr>\n",
       "      <th>34</th>\n",
       "      <td>1</td>\n",
       "      <td>1</td>\n",
       "      <td>0</td>\n",
       "      <td>1</td>\n",
       "      <td>1</td>\n",
       "      <td>05845774</td>\n",
       "      <td>d37b6e19</td>\n",
       "      <td>0.028000</td>\n",
       "      <td>0.940299</td>\n",
       "      <td>0.940299</td>\n",
       "    </tr>\n",
       "  </tbody>\n",
       "</table>\n",
       "</div>"
      ],
      "text/plain": [
       "    gamma_col_1  gamma_col_2  gamma_col_3  true_match_l  true_match_r  \\\n",
       "30            1            0            0             1             1   \n",
       "31            1            1            0             1             1   \n",
       "32            1            1            0             1             1   \n",
       "33            1            1            0             1             1   \n",
       "34            1            1            0             1             1   \n",
       "\n",
       "   unique_id_l unique_id_r  numerator  true_match_probability_l  \\\n",
       "30    3939c7b2    522ec328   0.003111                  0.304348   \n",
       "31    b3d4a2bd    6c8ff567   0.028000                  0.940299   \n",
       "32    92e6fbb5    a26eaf26   0.028000                  0.940299   \n",
       "33    1e67bbfb    b5a6e147   0.028000                  0.940299   \n",
       "34    05845774    d37b6e19   0.028000                  0.940299   \n",
       "\n",
       "    true_match_probability_r  \n",
       "30                  0.304348  \n",
       "31                  0.940299  \n",
       "32                  0.940299  \n",
       "33                  0.940299  \n",
       "34                  0.940299  "
      ]
     },
     "execution_count": 33,
     "metadata": {},
     "output_type": "execute_result"
    }
   ],
   "source": [
    "df_blocked.head()"
   ]
  },
  {
   "cell_type": "code",
   "execution_count": 34,
   "metadata": {},
   "outputs": [
    {
     "data": {
      "text/plain": [
       "1400"
      ]
     },
     "execution_count": 34,
     "metadata": {},
     "output_type": "execute_result"
    }
   ],
   "source": [
    "matches = df_blocked[\"true_match_l\"].sum()\n",
    "matches"
   ]
  },
  {
   "cell_type": "code",
   "execution_count": 35,
   "metadata": {},
   "outputs": [
    {
     "data": {
      "text/plain": [
       "1425"
      ]
     },
     "execution_count": 35,
     "metadata": {},
     "output_type": "execute_result"
    }
   ],
   "source": [
    "len(df_blocked)"
   ]
  },
  {
   "cell_type": "code",
   "execution_count": 49,
   "metadata": {},
   "outputs": [
    {
     "data": {
      "text/html": [
       "<div>\n",
       "<style scoped>\n",
       "    .dataframe tbody tr th:only-of-type {\n",
       "        vertical-align: middle;\n",
       "    }\n",
       "\n",
       "    .dataframe tbody tr th {\n",
       "        vertical-align: top;\n",
       "    }\n",
       "\n",
       "    .dataframe thead th {\n",
       "        text-align: right;\n",
       "    }\n",
       "</style>\n",
       "<table border=\"1\" class=\"dataframe\">\n",
       "  <thead>\n",
       "    <tr style=\"text-align: right;\">\n",
       "      <th>true_match_r</th>\n",
       "      <th>0</th>\n",
       "      <th>1</th>\n",
       "    </tr>\n",
       "    <tr>\n",
       "      <th>gamma_col_2</th>\n",
       "      <th></th>\n",
       "      <th></th>\n",
       "    </tr>\n",
       "  </thead>\n",
       "  <tbody>\n",
       "    <tr>\n",
       "      <th>0</th>\n",
       "      <td>20</td>\n",
       "      <td>140</td>\n",
       "    </tr>\n",
       "    <tr>\n",
       "      <th>1</th>\n",
       "      <td>5</td>\n",
       "      <td>1260</td>\n",
       "    </tr>\n",
       "  </tbody>\n",
       "</table>\n",
       "</div>"
      ],
      "text/plain": [
       "true_match_r   0     1\n",
       "gamma_col_2           \n",
       "0             20   140\n",
       "1              5  1260"
      ]
     },
     "execution_count": 49,
     "metadata": {},
     "output_type": "execute_result"
    }
   ],
   "source": [
    "df_blocked.pivot_table(index=\"gamma_col_2\",columns = 'true_match_r', values=\"true_match_l\", aggfunc=\"count\")"
   ]
  },
  {
   "cell_type": "code",
   "execution_count": null,
   "metadata": {},
   "outputs": [],
   "source": []
  }
 ],
 "metadata": {
  "kernelspec": {
   "display_name": "Python 3",
   "language": "python",
   "name": "python3"
  },
  "language_info": {
   "codemirror_mode": {
    "name": "ipython",
    "version": 3
   },
   "file_extension": ".py",
   "mimetype": "text/x-python",
   "name": "python",
   "nbconvert_exporter": "python",
   "pygments_lexer": "ipython3",
   "version": "3.8.3"
  }
 },
 "nbformat": 4,
 "nbformat_minor": 4
}
